{
 "cells": [
  {
   "cell_type": "markdown",
   "id": "bacterial-internship",
   "metadata": {},
   "source": [
    "# Introduction to Pandas\n",
    "\n",
    "In this tutorial, we will see the besics of one of the most useful and used tool in Data Science projects, i.e. Python Pandas."
   ]
  },
  {
   "cell_type": "markdown",
   "id": "resident-reaction",
   "metadata": {},
   "source": [
    "## What is Pandas\n",
    "\n",
    "[Pandas](https://pandas.pydata.org/) is a powerful tool developed for data analysis and data manipulation which is used in several Data Science projects due to its flexibility. It is accompanied by a great [user guide](https://pandas.pydata.org/docs/user_guide/index.html), [tutorials](https://pandas.pydata.org/docs/getting_started/intro_tutorials/), a [cookbook](https://pandas.pydata.org/docs/user_guide/cookbook.html), an [API documentation](https://pandas.pydata.org/docs/reference/index.html), other free books (e.g. [Python Data Science Handbook](https://jakevdp.github.io/PythonDataScienceHandbook/index.html)), and several articles on the topic (e.g. [those available](https://programminghistorian.org/en/lessons/?search=pandas) in [Programming Historian](https://programminghistorian.org)). \n",
    "\n",
    "The official website makes available a [\"Getting started\" guide](https://pandas.pydata.org/getting_started.html) to show how to install and use it. Anyway, you can install Pandas in your machine using the [pip command](https://pip.pypa.io/en/stable/) as follows:\n",
    "\n",
    "```\n",
    "pip install pandas\n",
    "```\n",
    "\n",
    "Among the various things, Pandas introduces two new class of objects that are used to handle any kind of data in tabular form. They are the class `Series` and the class `DataFrame`, described in the following subsections."
   ]
  },
  {
   "cell_type": "markdown",
   "id": "informed-samba",
   "metadata": {},
   "source": [
    "### What is a Series\n",
    "\n",
    "A [series](https://pandas.pydata.org/docs/user_guide/dsintro.html#series) is a one-dimensional array (i.e. it acts as a list) of objects of any data type (integers, strings, floating point numbers, Python objects, etc.). Each item in the series is indexed by a specific label (it can be an integer, a string, etc.), that can be used to access such item. If no index is specified, the class `Series` will create such an index automatically using non-negative numbers (i.e. starting counting elements from 0). \n",
    "\n",
    "| <span style=\"color:red\">*index (the label)*</span> | <span style=\"color:red\">*element (the value)*</span> |\n",
    "|---|---|\n",
    "| <span style=\"color:red\">*0*</span> | Ron |\n",
    "| <span style=\"color:red\">*1*</span> | Hermione |\n",
    "| <span style=\"color:red\">*2*</span> | Harry |\n",
    "| <span style=\"color:red\">*3*</span> | Tom |\n",
    "| <span style=\"color:red\">*4*</span> | James |\n",
    "| <span style=\"color:red\">*5*</span> | Lily |\n",
    "| <span style=\"color:red\">*6*</span> | Severus |\n",
    "| <span style=\"color:red\">*7*</span> | Sirius |\n",
    "\n",
    "A new series in Pandas can be created as follows:"
   ]
  },
  {
   "cell_type": "code",
   "execution_count": 2,
   "id": "specialized-medicine",
   "metadata": {},
   "outputs": [
    {
     "name": "stdout",
     "output_type": "stream",
     "text": [
      "0         Ron\n",
      "1    Hermione\n",
      "2       Harry\n",
      "3         Tom\n",
      "4       James\n",
      "5        Lily\n",
      "6     Severus\n",
      "7      Sirius\n",
      "dtype: object\n"
     ]
    }
   ],
   "source": [
    "from pandas import Series\n",
    "\n",
    "my_series = Series([\"Ron\", \"Hermione\", \"Harry\", \"Tom\", \"James\", \"Lily\", \"Severus\", \"Sirius\"])\n",
    "print(my_series)"
   ]
  },
  {
   "cell_type": "markdown",
   "id": "varied-blanket",
   "metadata": {},
   "source": [
    "As you can see, by printing the series on screen you get several information. The first column defines the indexes used to label each element of the series, which are listed in the second column. Finally, there is an indication of which kind of object are included in the series. In particular, in Pandas, the `object` data type (i.e. `dtype`) is used to define series that are made of string or mixed type objects. \n",
    "\n",
    "There are, of course, [other data types](https://pandas.pydata.org/docs/reference/api/pandas.DataFrame.dtypes.html) that can be used in series (and, sometimes, automatically inferred by Pandas). If you already know that all the values of a certain series belong to the same data type, e.g. string as in the example above, you can force Pandas to interpret them in such a way by specifying the data type with the input named parameter `dtype` in the constructur. For instance, to list all the values of the previous series as strings, the parameter `dtype` must be set to the value `string` must be specified. In addition, it is also possible to assign a name (i.e. a string) to the series, using the input named parameter `name`. The use of both `dtype` and `name` are shown as follows:"
   ]
  },
  {
   "cell_type": "code",
   "execution_count": 3,
   "id": "metallic-shopper",
   "metadata": {},
   "outputs": [
    {
     "name": "stdout",
     "output_type": "stream",
     "text": [
      "0         Ron\n",
      "1    Hermione\n",
      "2       Harry\n",
      "3         Tom\n",
      "4       James\n",
      "5        Lily\n",
      "6     Severus\n",
      "7      Sirius\n",
      "Name: given name, dtype: string\n"
     ]
    }
   ],
   "source": [
    "my_series = Series([\"Ron\", \"Hermione\", \"Harry\", \"Tom\", \"James\", \"Lily\", \"Severus\", \"Sirius\"], \n",
    "                   dtype=\"string\", name=\"given name\")\n",
    "print(my_series)"
   ]
  },
  {
   "cell_type": "markdown",
   "id": "golden-order",
   "metadata": {},
   "source": [
    "It is possible to use the slicing mechanism similar to what implemented in Python list (i.e. `<series>[<start>:<end>]` to create subseries on the fly – it works even when the index labels are not integers! In addition, one can use either the method `get` or, alternatively, the instruction `<series>[<index>]` (it is similar to that available in Python dictionaries), taking in input an index label, to retrieve the value at the input index, as show in the following excerpt:"
   ]
  },
  {
   "cell_type": "code",
   "execution_count": 4,
   "id": "subsequent-reason",
   "metadata": {},
   "outputs": [
    {
     "name": "stdout",
     "output_type": "stream",
     "text": [
      "The new subseries is:\n",
      "1    Hermione\n",
      "2       Harry\n",
      "3         Tom\n",
      "4       James\n",
      "5        Lily\n",
      "Name: given name, dtype: string\n",
      "\n",
      "The element at index 5 of the new subseries is:\n",
      "Lily\n"
     ]
    }
   ],
   "source": [
    "sub_series = my_series[1:6]\n",
    "print(\"The new subseries is:\")\n",
    "print(sub_series)\n",
    "\n",
    "print(\"\\nThe element at index 5 of the new subseries is:\")\n",
    "print(sub_series[5])"
   ]
  },
  {
   "cell_type": "markdown",
   "id": "inner-directive",
   "metadata": {},
   "source": [
    "While it may seem as a list, a series in Pandas has [several additional properties and methods](https://pandas.pydata.org/docs/reference/api/pandas.Series.html) that enable one to access and modify the item in the series in very different ways. Thus, it is more powerful than a simple Python list, and it is the basic structure adopted in the class described in the following section."
   ]
  },
  {
   "cell_type": "markdown",
   "id": "tracked-bottle",
   "metadata": {},
   "source": [
    "### What is a DataFrame\n",
    "\n",
    "In Pandas, a [DataFrame](https://pandas.pydata.org/docs/user_guide/dsintro.html#dataframe) is a table. You can imagine it as a set of named series containing the same amount of elements, where each series defines a column of the table, and all the series share the same index labels (referring to the rows of the table).\n",
    "\n",
    "| <span style=\"color:red\">*index (label for rows)*</span> | column name 1 (a series) | column name 2 (another series) |\n",
    "|---|---|---|\n",
    "| <span style=\"color:red\">*0*</span> | Ron | Wisley |\n",
    "| <span style=\"color:red\">*1*</span> | Hermione | Granger |\n",
    "| <span style=\"color:red\">*2*</span> | Harry | Potter |\n",
    "| <span style=\"color:red\">*3*</span> | Tom | Riddle |\n",
    "| <span style=\"color:red\">*4*</span> | James | Potter |\n",
    "| <span style=\"color:red\">*5*</span> | Lily | Potter |\n",
    "| <span style=\"color:red\">*6*</span> | Severus | Snape |\n",
    "| <span style=\"color:red\">*7*</span> | Sirius | Black |\n",
    "\n",
    "A new data frame in Pandas can be created as follows:"
   ]
  },
  {
   "cell_type": "code",
   "execution_count": 5,
   "id": "close-finding",
   "metadata": {},
   "outputs": [
    {
     "name": "stdout",
     "output_type": "stream",
     "text": [
      "  given name family name\n",
      "0        Ron      Wisley\n",
      "1   Hermione     Granger\n",
      "2      Harry      Potter\n",
      "3        Tom      Riddle\n",
      "4      James      Potter\n",
      "5       Lily      Potter\n",
      "6    Severus       Snape\n",
      "7     Sirius       Black\n"
     ]
    }
   ],
   "source": [
    "from pandas import DataFrame\n",
    "\n",
    "my_dataframe = DataFrame({\n",
    "    \"given name\" : my_series,\n",
    "    \"family name\" : Series(\n",
    "        [\"Wisley\", \"Granger\", \"Potter\", \"Riddle\", \"Potter\", \"Potter\", \"Snape\", \"Black\"], dtype=\"string\")\n",
    "})\n",
    "\n",
    "print(my_dataframe)"
   ]
  },
  {
   "cell_type": "markdown",
   "id": "effective-dispatch",
   "metadata": {},
   "source": [
    "In this case (but, please, remeber that it is not the only way to create a new data frame), we use as input a dictionary where each key defines a column name and the series associated to such a key contains the values of each cell in that column. Then we can access the various columns in the data frame use the same approach seen for series, i.e. `<dataframe>[<column name>]`, as shown in the following excerpt:\n",
    "\n",
    "section:\n",
    "column\n",
    "dtype\n",
    "row\n",
    "slicing"
   ]
  },
  {
   "cell_type": "code",
   "execution_count": 6,
   "id": "efficient-sunrise",
   "metadata": {},
   "outputs": [
    {
     "name": "stdout",
     "output_type": "stream",
     "text": [
      "0     Wisley\n",
      "1    Granger\n",
      "2     Potter\n",
      "3     Riddle\n",
      "4     Potter\n",
      "5     Potter\n",
      "6      Snape\n",
      "7      Black\n",
      "Name: family name, dtype: string\n"
     ]
    }
   ],
   "source": [
    "family_name_column = my_dataframe[\"family name\"]\n",
    "print(family_name_column)"
   ]
  },
  {
   "cell_type": "markdown",
   "id": "6b861ccf-b87e-4e38-b75c-88dda59f7128",
   "metadata": {},
   "source": [
    "Selecting a column returns a series defining that column that share the column name and the indexes as specified in the dataframe. Similarly, using the instruction `<dataframe>.loc[<index label>]`, that takes in input an index label, returns the series defining the row at that input index, as shown in the following example:"
   ]
  },
  {
   "cell_type": "code",
   "execution_count": 7,
   "id": "4960da41-e738-40e8-ab7e-a37e50e2d4ef",
   "metadata": {},
   "outputs": [
    {
     "name": "stdout",
     "output_type": "stream",
     "text": [
      "given name      Harry\n",
      "family name    Potter\n",
      "Name: 2, dtype: string\n"
     ]
    }
   ],
   "source": [
    "third_row = my_dataframe.loc[2]\n",
    "print(third_row)"
   ]
  },
  {
   "cell_type": "markdown",
   "id": "795a2983-738e-4c89-864f-e25dfb75a338",
   "metadata": {},
   "source": [
    "As shown in the code above, it returns a series which has the column names of the original data frame as index labels of the series, the name as the index label of the data frame row selected, and the data type of the row derived from the various data types of the data frame columns.\n",
    "\n",
    "Finally, as seen with the series, also data frame can be sliced (by rows) using the indentical approach introduced in the series. For instance, the following code shows how to create a new data frame taking a selection of the rows:"
   ]
  },
  {
   "cell_type": "code",
   "execution_count": 8,
   "id": "0bafe66a-9f9e-4029-abd0-ef8a4b4a6fed",
   "metadata": {},
   "outputs": [
    {
     "name": "stdout",
     "output_type": "stream",
     "text": [
      "The new subdataframe is:\n",
      "  given name family name\n",
      "1   Hermione     Granger\n",
      "2      Harry      Potter\n",
      "3        Tom      Riddle\n",
      "4      James      Potter\n",
      "5       Lily      Potter\n",
      "\n",
      "The row at index 2 of the new subdataframe is:\n",
      "given name      Harry\n",
      "family name    Potter\n",
      "Name: 2, dtype: string\n"
     ]
    }
   ],
   "source": [
    "print(\"The new subdataframe is:\")\n",
    "sub_dataframe = my_dataframe[1:6]\n",
    "print(sub_dataframe)\n",
    "\n",
    "print(\"\\nThe row at index 2 of the new subdataframe is:\")\n",
    "print(sub_dataframe.loc[2])"
   ]
  },
  {
   "cell_type": "markdown",
   "id": "ee55a8c0-ef01-4b11-a71e-e7caa4b94849",
   "metadata": {},
   "source": [
    "Also a data frame in Pandas has [several additional properties and methods](https://pandas.pydata.org/docs/reference/api/pandas.DataFrame.html) that enable one to access and modify the cells in the data frame."
   ]
  },
  {
   "cell_type": "markdown",
   "id": "cellular-scroll",
   "metadata": {
    "tags": []
   },
   "source": [
    "## How to load data into Pandas\n",
    "\n",
    "Pandas makes available [several functions](https://pandas.pydata.org/docs/user_guide/io.html) to load data stored in different formats. Indeed, there is a particular function that we can use to load data from CSV representations of tabular data (as those introduced in the [first tutorial](../01/01-Data_formats_and_methods_for_storing_data_in_Python.ipynb)), i.e. the [function `read_csv`](https://pandas.pydata.org/docs/reference/api/pandas.read_csv.html).\n",
    "\n",
    "The method `read_csv` takes in input a file path and returns a `DataFrame` representing such tabular data, as shown as follows:"
   ]
  },
  {
   "cell_type": "code",
   "execution_count": 9,
   "id": "1eae9aa0-4d22-4748-9cf8-ea96ea62cad6",
   "metadata": {},
   "outputs": [
    {
     "name": "stdout",
     "output_type": "stream",
     "text": [
      "                             doi  \\\n",
      "0                10.1002/cfg.304   \n",
      "1  10.1016/s1367-5931(02)00332-0   \n",
      "2     10.1002/9780470291092.ch20   \n",
      "\n",
      "                                               title  publication year  \\\n",
      "0  Development of Computational Tools for the Inf...              2003   \n",
      "1  In vitro selection as a powerful tool for the ...              2002   \n",
      "2  Mechanisms of Toughening in Ceramic Matrix Com...              1981   \n",
      "\n",
      "  publication venue             type  issue  volume  \n",
      "0         1531-6912  journal article    4.0     4.0  \n",
      "1         1367-5931  journal article    3.0     6.0  \n",
      "2     9780470291092     book chapter    NaN     NaN  \n"
     ]
    }
   ],
   "source": [
    "from pandas import read_csv\n",
    "\n",
    "df_publications = read_csv(\"../01/01-publications.csv\")\n",
    "print(df_publications)"
   ]
  },
  {
   "cell_type": "markdown",
   "id": "b08b5742-b3c0-41c4-aaab-a63b2b979512",
   "metadata": {},
   "source": [
    "As you can see in the code above, the `print` function does not provide an appropriate visualisation of the data frame, mainly because the content of its columns is more extensive than the example before. In Jupyter, it is possible to have a good preview of a data frame by simply name the variable in a runnable code, as follows:"
   ]
  },
  {
   "cell_type": "code",
   "execution_count": 10,
   "id": "10f103f1-5622-407c-aeaf-a284a100d06b",
   "metadata": {},
   "outputs": [
    {
     "data": {
      "text/html": [
       "<div>\n",
       "<style scoped>\n",
       "    .dataframe tbody tr th:only-of-type {\n",
       "        vertical-align: middle;\n",
       "    }\n",
       "\n",
       "    .dataframe tbody tr th {\n",
       "        vertical-align: top;\n",
       "    }\n",
       "\n",
       "    .dataframe thead th {\n",
       "        text-align: right;\n",
       "    }\n",
       "</style>\n",
       "<table border=\"1\" class=\"dataframe\">\n",
       "  <thead>\n",
       "    <tr style=\"text-align: right;\">\n",
       "      <th></th>\n",
       "      <th>doi</th>\n",
       "      <th>title</th>\n",
       "      <th>publication year</th>\n",
       "      <th>publication venue</th>\n",
       "      <th>type</th>\n",
       "      <th>issue</th>\n",
       "      <th>volume</th>\n",
       "    </tr>\n",
       "  </thead>\n",
       "  <tbody>\n",
       "    <tr>\n",
       "      <th>0</th>\n",
       "      <td>10.1002/cfg.304</td>\n",
       "      <td>Development of Computational Tools for the Inf...</td>\n",
       "      <td>2003</td>\n",
       "      <td>1531-6912</td>\n",
       "      <td>journal article</td>\n",
       "      <td>4.0</td>\n",
       "      <td>4.0</td>\n",
       "    </tr>\n",
       "    <tr>\n",
       "      <th>1</th>\n",
       "      <td>10.1016/s1367-5931(02)00332-0</td>\n",
       "      <td>In vitro selection as a powerful tool for the ...</td>\n",
       "      <td>2002</td>\n",
       "      <td>1367-5931</td>\n",
       "      <td>journal article</td>\n",
       "      <td>3.0</td>\n",
       "      <td>6.0</td>\n",
       "    </tr>\n",
       "    <tr>\n",
       "      <th>2</th>\n",
       "      <td>10.1002/9780470291092.ch20</td>\n",
       "      <td>Mechanisms of Toughening in Ceramic Matrix Com...</td>\n",
       "      <td>1981</td>\n",
       "      <td>9780470291092</td>\n",
       "      <td>book chapter</td>\n",
       "      <td>NaN</td>\n",
       "      <td>NaN</td>\n",
       "    </tr>\n",
       "  </tbody>\n",
       "</table>\n",
       "</div>"
      ],
      "text/plain": [
       "                             doi  \\\n",
       "0                10.1002/cfg.304   \n",
       "1  10.1016/s1367-5931(02)00332-0   \n",
       "2     10.1002/9780470291092.ch20   \n",
       "\n",
       "                                               title  publication year  \\\n",
       "0  Development of Computational Tools for the Inf...              2003   \n",
       "1  In vitro selection as a powerful tool for the ...              2002   \n",
       "2  Mechanisms of Toughening in Ceramic Matrix Com...              1981   \n",
       "\n",
       "  publication venue             type  issue  volume  \n",
       "0         1531-6912  journal article    4.0     4.0  \n",
       "1         1367-5931  journal article    3.0     6.0  \n",
       "2     9780470291092     book chapter    NaN     NaN  "
      ]
     },
     "execution_count": 10,
     "metadata": {},
     "output_type": "execute_result"
    }
   ],
   "source": [
    "df_publications"
   ]
  },
  {
   "cell_type": "markdown",
   "id": "a85b4e52-49e3-4cfa-8c86-c382f7c1305a",
   "metadata": {},
   "source": [
    "By looking at the data frame, it appears clear that there is something odd in the data types shown, in particular in the columns `issue` and `volume`. In these columns there are two main issues. The first one concern the data types associated to the column. Indeed, it seems that Pandas has interpreted automatically these columns as floating numbers, while they should be made of strings! This can be conformed by printing the data type (attribute `dtype`) associated to one of these columns, for instance:"
   ]
  },
  {
   "cell_type": "code",
   "execution_count": 11,
   "id": "c60b2d3e-20bf-4b86-b926-2336fbdf5579",
   "metadata": {},
   "outputs": [
    {
     "name": "stdout",
     "output_type": "stream",
     "text": [
      "float64\n"
     ]
    }
   ],
   "source": [
    "print(df_publications[\"issue\"].dtype)"
   ]
  },
  {
   "cell_type": "markdown",
   "id": "b119ddc6-b53b-494c-b48c-62d0a9710bed",
   "metadata": {},
   "source": [
    "The other issue concerns that strange value in the last row, i.e. `NaN`. This special object is used when there is a [missing data](https://pandas.pydata.org/pandas-docs/stable/user_guide/missing_data.html) in a cell. However, once may expect that, since in the example we are dealing with string, we should simply use an empty string to represent such a missing data instead that such special object. \n",
    "\n",
    "In order to avoid this behaviour, it may be neccessary to use the method `read_csv` specifying an additional input named parameter, i.e. `dtype`, which enables the specification of a dictionary where the keys are column names, while the values are the strings representing the data type for each column. Instead, to force Pandas to use an empty string as default for string-based column in case of missing values, it is enough to tell the function `read_csv` not to use the default `NaN` for missing value by setting the input named parameter `keep_default_na` to `False`.\n",
    "\n",
    "The following code shows how to specify such parameters, showing on screen how the new data frame has been modified:"
   ]
  },
  {
   "cell_type": "code",
   "execution_count": 12,
   "id": "2090445b-1842-4504-bff6-d6c134c98ccb",
   "metadata": {},
   "outputs": [
    {
     "data": {
      "text/html": [
       "<div>\n",
       "<style scoped>\n",
       "    .dataframe tbody tr th:only-of-type {\n",
       "        vertical-align: middle;\n",
       "    }\n",
       "\n",
       "    .dataframe tbody tr th {\n",
       "        vertical-align: top;\n",
       "    }\n",
       "\n",
       "    .dataframe thead th {\n",
       "        text-align: right;\n",
       "    }\n",
       "</style>\n",
       "<table border=\"1\" class=\"dataframe\">\n",
       "  <thead>\n",
       "    <tr style=\"text-align: right;\">\n",
       "      <th></th>\n",
       "      <th>doi</th>\n",
       "      <th>title</th>\n",
       "      <th>publication year</th>\n",
       "      <th>publication venue</th>\n",
       "      <th>type</th>\n",
       "      <th>issue</th>\n",
       "      <th>volume</th>\n",
       "    </tr>\n",
       "  </thead>\n",
       "  <tbody>\n",
       "    <tr>\n",
       "      <th>0</th>\n",
       "      <td>10.1002/cfg.304</td>\n",
       "      <td>Development of Computational Tools for the Inf...</td>\n",
       "      <td>2003</td>\n",
       "      <td>1531-6912</td>\n",
       "      <td>journal article</td>\n",
       "      <td>4</td>\n",
       "      <td>4</td>\n",
       "    </tr>\n",
       "    <tr>\n",
       "      <th>1</th>\n",
       "      <td>10.1016/s1367-5931(02)00332-0</td>\n",
       "      <td>In vitro selection as a powerful tool for the ...</td>\n",
       "      <td>2002</td>\n",
       "      <td>1367-5931</td>\n",
       "      <td>journal article</td>\n",
       "      <td>3</td>\n",
       "      <td>6</td>\n",
       "    </tr>\n",
       "    <tr>\n",
       "      <th>2</th>\n",
       "      <td>10.1002/9780470291092.ch20</td>\n",
       "      <td>Mechanisms of Toughening in Ceramic Matrix Com...</td>\n",
       "      <td>1981</td>\n",
       "      <td>9780470291092</td>\n",
       "      <td>book chapter</td>\n",
       "      <td></td>\n",
       "      <td></td>\n",
       "    </tr>\n",
       "  </tbody>\n",
       "</table>\n",
       "</div>"
      ],
      "text/plain": [
       "                             doi  \\\n",
       "0                10.1002/cfg.304   \n",
       "1  10.1016/s1367-5931(02)00332-0   \n",
       "2     10.1002/9780470291092.ch20   \n",
       "\n",
       "                                               title  publication year  \\\n",
       "0  Development of Computational Tools for the Inf...              2003   \n",
       "1  In vitro selection as a powerful tool for the ...              2002   \n",
       "2  Mechanisms of Toughening in Ceramic Matrix Com...              1981   \n",
       "\n",
       "  publication venue             type issue volume  \n",
       "0         1531-6912  journal article     4      4  \n",
       "1         1367-5931  journal article     3      6  \n",
       "2     9780470291092     book chapter               "
      ]
     },
     "execution_count": 12,
     "metadata": {},
     "output_type": "execute_result"
    }
   ],
   "source": [
    "df_publications = read_csv(\"../01/01-publications.csv\", \n",
    "                           keep_default_na=False,\n",
    "                           dtype={\n",
    "                               \"doi\": \"string\",\n",
    "                               \"title\": \"string\",\n",
    "                               \"publication year\": \"int\",\n",
    "                               \"publication venue\": \"string\",\n",
    "                               \"type\": \"string\",\n",
    "                               \"issue\": \"string\",\n",
    "                               \"volume\": \"string\"\n",
    "                           })\n",
    "df_publications"
   ]
  },
  {
   "cell_type": "markdown",
   "id": "computational-equipment",
   "metadata": {},
   "source": [
    "## Iterating over a DataFrame and a Series\n",
    "\n",
    "Being a table, there are two possible strategies for iterating over a `DataFrame` object: row iteration and column iteration. These two can be achieved by means of two distinct methods of the class `DataFrame`: the [method `iterrows`](https://pandas.pydata.org/pandas-docs/stable/reference/api/pandas.DataFrame.iterrows.html) and the [method `items`](https://pandas.pydata.org/pandas-docs/stable/reference/api/pandas.DataFrame.items.html).\n",
    "\n",
    "The method `iterrows` is used to retrieve a list-like structure where each item has two elements: the index label and a series representing the row related to that index."
   ]
  },
  {
   "cell_type": "code",
   "execution_count": 13,
   "id": "6ce509b2-4a7c-4467-865e-f4c8b2bf13bc",
   "metadata": {},
   "outputs": [
    {
     "name": "stdout",
     "output_type": "stream",
     "text": [
      "\n",
      "The index of the current row is 0\n",
      "The content of the row is as follows:\n",
      "doi                                                    10.1002/cfg.304\n",
      "title                Development of Computational Tools for the Inf...\n",
      "publication year                                                  2003\n",
      "publication venue                                            1531-6912\n",
      "type                                                   journal article\n",
      "issue                                                                4\n",
      "volume                                                               4\n",
      "Name: 0, dtype: object\n",
      "\n",
      "The index of the current row is 1\n",
      "The content of the row is as follows:\n",
      "doi                                      10.1016/s1367-5931(02)00332-0\n",
      "title                In vitro selection as a powerful tool for the ...\n",
      "publication year                                                  2002\n",
      "publication venue                                            1367-5931\n",
      "type                                                   journal article\n",
      "issue                                                                3\n",
      "volume                                                               6\n",
      "Name: 1, dtype: object\n",
      "\n",
      "The index of the current row is 2\n",
      "The content of the row is as follows:\n",
      "doi                                         10.1002/9780470291092.ch20\n",
      "title                Mechanisms of Toughening in Ceramic Matrix Com...\n",
      "publication year                                                  1981\n",
      "publication venue                                        9780470291092\n",
      "type                                                      book chapter\n",
      "issue                                                                 \n",
      "volume                                                                \n",
      "Name: 2, dtype: object\n"
     ]
    }
   ],
   "source": [
    "for idx, row in df_publications.iterrows():\n",
    "    print(\"\\nThe index of the current row is\", idx)\n",
    "    print(\"The content of the row is as follows:\")\n",
    "    print(row)"
   ]
  },
  {
   "cell_type": "markdown",
   "id": "28aec6f2-506d-4905-aee2-f05bdb49eb45",
   "metadata": {},
   "source": [
    "If one wants to iterate also over a series representing a row, keeping track of the index labels of the series representing the row (i.e. the column names), one can use the [method `iteritems`](https://pandas.pydata.org/pandas-docs/stable/reference/api/pandas.Series.iteritems.html#pandas.Series.iteritems) of the class `Series`:"
   ]
  },
  {
   "cell_type": "code",
   "execution_count": 14,
   "id": "f52cca34-1ffc-44ae-aa3b-6bc8756ede06",
   "metadata": {},
   "outputs": [
    {
     "name": "stdout",
     "output_type": "stream",
     "text": [
      "\n",
      "Row index 0\n",
      "doi --> 10.1002/cfg.304\n",
      "title --> Development of Computational Tools for the Inference of Protein Interaction Specificity Rules and Functional Annotation Using Structural Information\n",
      "publication year --> 2003\n",
      "publication venue --> 1531-6912\n",
      "type --> journal article\n",
      "issue --> 4\n",
      "volume --> 4\n",
      "\n",
      "Row index 1\n",
      "doi --> 10.1016/s1367-5931(02)00332-0\n",
      "title --> In vitro selection as a powerful tool for the applied evolution of proteins and peptides\n",
      "publication year --> 2002\n",
      "publication venue --> 1367-5931\n",
      "type --> journal article\n",
      "issue --> 3\n",
      "volume --> 6\n",
      "\n",
      "Row index 2\n",
      "doi --> 10.1002/9780470291092.ch20\n",
      "title --> Mechanisms of Toughening in Ceramic Matrix Composites\n",
      "publication year --> 1981\n",
      "publication venue --> 9780470291092\n",
      "type --> book chapter\n",
      "issue --> \n",
      "volume --> \n"
     ]
    }
   ],
   "source": [
    "for row_idx, row in df_publications.iterrows():\n",
    "    print(\"\\nRow index\", row_idx)\n",
    "    for item_idx, item in row.iteritems():\n",
    "        print(item_idx, \"-->\", item)"
   ]
  },
  {
   "cell_type": "markdown",
   "id": "4dedb6e3-3a10-4b44-bdcf-09f201a0c0b3",
   "metadata": {},
   "source": [
    "The method `items` of the class `DataFrame` is used to retrieve a list-like structure where each item has two elements: the column name and a series representing the related column, as shown in the following excerpt:"
   ]
  },
  {
   "cell_type": "code",
   "execution_count": 15,
   "id": "49fbf4e6-5b5b-488e-9f16-f6dc5bd2958a",
   "metadata": {},
   "outputs": [
    {
     "name": "stdout",
     "output_type": "stream",
     "text": [
      "\n",
      "The name of the current column is doi\n",
      "The content of the column is as follows:\n",
      "0                  10.1002/cfg.304\n",
      "1    10.1016/s1367-5931(02)00332-0\n",
      "2       10.1002/9780470291092.ch20\n",
      "Name: doi, dtype: string\n",
      "\n",
      "The name of the current column is title\n",
      "The content of the column is as follows:\n",
      "0    Development of Computational Tools for the Inf...\n",
      "1    In vitro selection as a powerful tool for the ...\n",
      "2    Mechanisms of Toughening in Ceramic Matrix Com...\n",
      "Name: title, dtype: string\n",
      "\n",
      "The name of the current column is publication year\n",
      "The content of the column is as follows:\n",
      "0    2003\n",
      "1    2002\n",
      "2    1981\n",
      "Name: publication year, dtype: int64\n",
      "\n",
      "The name of the current column is publication venue\n",
      "The content of the column is as follows:\n",
      "0        1531-6912\n",
      "1        1367-5931\n",
      "2    9780470291092\n",
      "Name: publication venue, dtype: string\n",
      "\n",
      "The name of the current column is type\n",
      "The content of the column is as follows:\n",
      "0    journal article\n",
      "1    journal article\n",
      "2       book chapter\n",
      "Name: type, dtype: string\n",
      "\n",
      "The name of the current column is issue\n",
      "The content of the column is as follows:\n",
      "0    4\n",
      "1    3\n",
      "2     \n",
      "Name: issue, dtype: string\n",
      "\n",
      "The name of the current column is volume\n",
      "The content of the column is as follows:\n",
      "0    4\n",
      "1    6\n",
      "2     \n",
      "Name: volume, dtype: string\n"
     ]
    }
   ],
   "source": [
    "for column_name, column in df_publications.items():\n",
    "    print(\"\\nThe name of the current column is\", column_name)\n",
    "    print(\"The content of the column is as follows:\")\n",
    "    print(column)"
   ]
  },
  {
   "cell_type": "markdown",
   "id": "0fd2fe4d-7a5e-4a23-89b3-7e1b3d67c06e",
   "metadata": {},
   "source": [
    "## How to store data with Pandas\n",
    "\n",
    "Pandas makes available a specific method (i.e. `to_csv`) to its main classes, i.e. `Series` and `DataFrame`, to enable one to store them in the filesystem. In the `DataFrame` class, the [method `to_csv`](https://pandas.pydata.org/docs/reference/api/pandas.DataFrame.to_csv.html) takes in input the file path where to store the CSV file representing the data frame as shown as follows:"
   ]
  },
  {
   "cell_type": "code",
   "execution_count": 16,
   "id": "2665b213-837a-4830-aabc-9aee324abc7b",
   "metadata": {},
   "outputs": [],
   "source": [
    "df_publications.to_csv(\"03-publications.csv\")"
   ]
  },
  {
   "cell_type": "markdown",
   "id": "2b848f9b-f119-406a-99e1-1aff4f133e5e",
   "metadata": {},
   "source": [
    "However, the method `to_csv` called as shown above will store also an additional column at the beginning, i.e. that related with the index labels for each row. In order to avoid to preserve the index, it is possible to set the input named parameter `index` to `False`, as shown in the following excerpt:"
   ]
  },
  {
   "cell_type": "code",
   "execution_count": 17,
   "id": "b08ecf38-a279-40bf-8e39-9dca46009db1",
   "metadata": {},
   "outputs": [],
   "source": [
    "df_publications.to_csv(\"03-publications_no_index.csv\", index=False)"
   ]
  },
  {
   "cell_type": "markdown",
   "id": "88b1643d-d3da-44a5-88a5-81dcee0fbc6f",
   "metadata": {},
   "source": [
    "## Main operations with DataFrame\n",
    "\n",
    "Pandas makes available several operations for [indexing, selecting](https://pandas.pydata.org/docs/user_guide/indexing.html), [merging, joining, concatenating, and comparing](https://pandas.pydata.org/docs/user_guide/merging.html) data in a data frame. In the following section, we introduce two of them, but several additional operations are available in the documentation linked above."
   ]
  },
  {
   "cell_type": "markdown",
   "id": "handed-executive",
   "metadata": {},
   "source": [
    "### Querying\n",
    "\n",
    "Pandas has several ways enabling querying a data frame and returning a selections of its rows. Among the various methods, one extremely useful is the [method `query`](https://pandas.pydata.org/docs/reference/api/pandas.DataFrame.query.html), that takes in input a string representing an expression for querying the data frame and returns a new data frame compliant with the query.\n",
    "\n",
    "The expression can be a [combination of boolean expressions and comparisons](https://pandas.pydata.org/docs/user_guide/indexing.html#the-query-method), that enable to filter rows according to the values of its cells. For instance, to get all the rows that are journal articles, one can run the following query:"
   ]
  },
  {
   "cell_type": "code",
   "execution_count": 18,
   "id": "df581d73-c97f-4a72-97ab-884003485b9c",
   "metadata": {},
   "outputs": [
    {
     "data": {
      "text/html": [
       "<div>\n",
       "<style scoped>\n",
       "    .dataframe tbody tr th:only-of-type {\n",
       "        vertical-align: middle;\n",
       "    }\n",
       "\n",
       "    .dataframe tbody tr th {\n",
       "        vertical-align: top;\n",
       "    }\n",
       "\n",
       "    .dataframe thead th {\n",
       "        text-align: right;\n",
       "    }\n",
       "</style>\n",
       "<table border=\"1\" class=\"dataframe\">\n",
       "  <thead>\n",
       "    <tr style=\"text-align: right;\">\n",
       "      <th></th>\n",
       "      <th>doi</th>\n",
       "      <th>title</th>\n",
       "      <th>publication year</th>\n",
       "      <th>publication venue</th>\n",
       "      <th>type</th>\n",
       "      <th>issue</th>\n",
       "      <th>volume</th>\n",
       "    </tr>\n",
       "  </thead>\n",
       "  <tbody>\n",
       "    <tr>\n",
       "      <th>0</th>\n",
       "      <td>10.1002/cfg.304</td>\n",
       "      <td>Development of Computational Tools for the Inf...</td>\n",
       "      <td>2003</td>\n",
       "      <td>1531-6912</td>\n",
       "      <td>journal article</td>\n",
       "      <td>4</td>\n",
       "      <td>4</td>\n",
       "    </tr>\n",
       "    <tr>\n",
       "      <th>1</th>\n",
       "      <td>10.1016/s1367-5931(02)00332-0</td>\n",
       "      <td>In vitro selection as a powerful tool for the ...</td>\n",
       "      <td>2002</td>\n",
       "      <td>1367-5931</td>\n",
       "      <td>journal article</td>\n",
       "      <td>3</td>\n",
       "      <td>6</td>\n",
       "    </tr>\n",
       "  </tbody>\n",
       "</table>\n",
       "</div>"
      ],
      "text/plain": [
       "                             doi  \\\n",
       "0                10.1002/cfg.304   \n",
       "1  10.1016/s1367-5931(02)00332-0   \n",
       "\n",
       "                                               title  publication year  \\\n",
       "0  Development of Computational Tools for the Inf...              2003   \n",
       "1  In vitro selection as a powerful tool for the ...              2002   \n",
       "\n",
       "  publication venue             type issue volume  \n",
       "0         1531-6912  journal article     4      4  \n",
       "1         1367-5931  journal article     3      6  "
      ]
     },
     "execution_count": 18,
     "metadata": {},
     "output_type": "execute_result"
    }
   ],
   "source": [
    "df_publications.query(\"type == 'journal article'\")"
   ]
  },
  {
   "cell_type": "markdown",
   "id": "9e300798-424a-474b-bba1-d24a86446e5c",
   "metadata": {},
   "source": [
    "In case we want to refer to columns with spaces, we must use the tick character (i.e. <code>`</code>) to enclose the name of the column. For instance, to get all the rows that have a publication date lesser than <code>2003</code>, we can run the following query:"
   ]
  },
  {
   "cell_type": "code",
   "execution_count": 19,
   "id": "6b70a1a4-7900-4402-bd12-26a6aec25e93",
   "metadata": {},
   "outputs": [
    {
     "data": {
      "text/html": [
       "<div>\n",
       "<style scoped>\n",
       "    .dataframe tbody tr th:only-of-type {\n",
       "        vertical-align: middle;\n",
       "    }\n",
       "\n",
       "    .dataframe tbody tr th {\n",
       "        vertical-align: top;\n",
       "    }\n",
       "\n",
       "    .dataframe thead th {\n",
       "        text-align: right;\n",
       "    }\n",
       "</style>\n",
       "<table border=\"1\" class=\"dataframe\">\n",
       "  <thead>\n",
       "    <tr style=\"text-align: right;\">\n",
       "      <th></th>\n",
       "      <th>doi</th>\n",
       "      <th>title</th>\n",
       "      <th>publication year</th>\n",
       "      <th>publication venue</th>\n",
       "      <th>type</th>\n",
       "      <th>issue</th>\n",
       "      <th>volume</th>\n",
       "    </tr>\n",
       "  </thead>\n",
       "  <tbody>\n",
       "    <tr>\n",
       "      <th>1</th>\n",
       "      <td>10.1016/s1367-5931(02)00332-0</td>\n",
       "      <td>In vitro selection as a powerful tool for the ...</td>\n",
       "      <td>2002</td>\n",
       "      <td>1367-5931</td>\n",
       "      <td>journal article</td>\n",
       "      <td>3</td>\n",
       "      <td>6</td>\n",
       "    </tr>\n",
       "    <tr>\n",
       "      <th>2</th>\n",
       "      <td>10.1002/9780470291092.ch20</td>\n",
       "      <td>Mechanisms of Toughening in Ceramic Matrix Com...</td>\n",
       "      <td>1981</td>\n",
       "      <td>9780470291092</td>\n",
       "      <td>book chapter</td>\n",
       "      <td></td>\n",
       "      <td></td>\n",
       "    </tr>\n",
       "  </tbody>\n",
       "</table>\n",
       "</div>"
      ],
      "text/plain": [
       "                             doi  \\\n",
       "1  10.1016/s1367-5931(02)00332-0   \n",
       "2     10.1002/9780470291092.ch20   \n",
       "\n",
       "                                               title  publication year  \\\n",
       "1  In vitro selection as a powerful tool for the ...              2002   \n",
       "2  Mechanisms of Toughening in Ceramic Matrix Com...              1981   \n",
       "\n",
       "  publication venue             type issue volume  \n",
       "1         1367-5931  journal article     3      6  \n",
       "2     9780470291092     book chapter               "
      ]
     },
     "execution_count": 19,
     "metadata": {},
     "output_type": "execute_result"
    }
   ],
   "source": [
    "df_publications.query(\"`publication year` < 2003\")"
   ]
  },
  {
   "cell_type": "markdown",
   "id": "48d26ab3-4487-4190-b688-7497365b9a5a",
   "metadata": {},
   "source": [
    "It is also possible to combine queries by using the boolean operators `and` and `or`. For instance, to get all the journal articles published before 2003, we can run the following query:"
   ]
  },
  {
   "cell_type": "code",
   "execution_count": 20,
   "id": "4e904005-cf57-4d63-9bd9-168e310ad639",
   "metadata": {},
   "outputs": [
    {
     "data": {
      "text/html": [
       "<div>\n",
       "<style scoped>\n",
       "    .dataframe tbody tr th:only-of-type {\n",
       "        vertical-align: middle;\n",
       "    }\n",
       "\n",
       "    .dataframe tbody tr th {\n",
       "        vertical-align: top;\n",
       "    }\n",
       "\n",
       "    .dataframe thead th {\n",
       "        text-align: right;\n",
       "    }\n",
       "</style>\n",
       "<table border=\"1\" class=\"dataframe\">\n",
       "  <thead>\n",
       "    <tr style=\"text-align: right;\">\n",
       "      <th></th>\n",
       "      <th>doi</th>\n",
       "      <th>title</th>\n",
       "      <th>publication year</th>\n",
       "      <th>publication venue</th>\n",
       "      <th>type</th>\n",
       "      <th>issue</th>\n",
       "      <th>volume</th>\n",
       "    </tr>\n",
       "  </thead>\n",
       "  <tbody>\n",
       "    <tr>\n",
       "      <th>1</th>\n",
       "      <td>10.1016/s1367-5931(02)00332-0</td>\n",
       "      <td>In vitro selection as a powerful tool for the ...</td>\n",
       "      <td>2002</td>\n",
       "      <td>1367-5931</td>\n",
       "      <td>journal article</td>\n",
       "      <td>3</td>\n",
       "      <td>6</td>\n",
       "    </tr>\n",
       "  </tbody>\n",
       "</table>\n",
       "</div>"
      ],
      "text/plain": [
       "                             doi  \\\n",
       "1  10.1016/s1367-5931(02)00332-0   \n",
       "\n",
       "                                               title  publication year  \\\n",
       "1  In vitro selection as a powerful tool for the ...              2002   \n",
       "\n",
       "  publication venue             type issue volume  \n",
       "1         1367-5931  journal article     3      6  "
      ]
     },
     "execution_count": 20,
     "metadata": {},
     "output_type": "execute_result"
    }
   ],
   "source": [
    "df_publications.query(\"type == 'journal article' and `publication year` < 2003\")"
   ]
  },
  {
   "cell_type": "markdown",
   "id": "raised-cleaning",
   "metadata": {},
   "source": [
    "### Joining\n",
    "\n",
    "Joining two data frames into a new one according to some common value is a crucial operation to enable to answer more complex query, such as getting all the article published in the journal named *Current Opinion in Chemical Biology*. Indeed, the data frame about publications we have considered so fare does not have any information about the name of the venues, nor their types. However, considering the data we used in the first tutorial, we know that such information is actually included in another CSV file entirely dedicated to venues, that we can load in pandas as follows:"
   ]
  },
  {
   "cell_type": "code",
   "execution_count": 21,
   "id": "fbe3b5a5-b78b-435b-82c3-ad6b3af6e180",
   "metadata": {},
   "outputs": [
    {
     "data": {
      "text/html": [
       "<div>\n",
       "<style scoped>\n",
       "    .dataframe tbody tr th:only-of-type {\n",
       "        vertical-align: middle;\n",
       "    }\n",
       "\n",
       "    .dataframe tbody tr th {\n",
       "        vertical-align: top;\n",
       "    }\n",
       "\n",
       "    .dataframe thead th {\n",
       "        text-align: right;\n",
       "    }\n",
       "</style>\n",
       "<table border=\"1\" class=\"dataframe\">\n",
       "  <thead>\n",
       "    <tr style=\"text-align: right;\">\n",
       "      <th></th>\n",
       "      <th>id</th>\n",
       "      <th>name</th>\n",
       "      <th>type</th>\n",
       "    </tr>\n",
       "  </thead>\n",
       "  <tbody>\n",
       "    <tr>\n",
       "      <th>0</th>\n",
       "      <td>1531-6912</td>\n",
       "      <td>Comparative and Functional Genomics</td>\n",
       "      <td>journal</td>\n",
       "    </tr>\n",
       "    <tr>\n",
       "      <th>1</th>\n",
       "      <td>1367-5931</td>\n",
       "      <td>Current Opinion in Chemical Biology</td>\n",
       "      <td>journal</td>\n",
       "    </tr>\n",
       "    <tr>\n",
       "      <th>2</th>\n",
       "      <td>9780470291092</td>\n",
       "      <td>Proceedings of the 5th Annual Conference on Co...</td>\n",
       "      <td>book</td>\n",
       "    </tr>\n",
       "    <tr>\n",
       "      <th>3</th>\n",
       "      <td>1027-3662</td>\n",
       "      <td>Journal of Theoretical Medicine</td>\n",
       "      <td>journal</td>\n",
       "    </tr>\n",
       "  </tbody>\n",
       "</table>\n",
       "</div>"
      ],
      "text/plain": [
       "              id                                               name     type\n",
       "0      1531-6912                Comparative and Functional Genomics  journal\n",
       "1      1367-5931                Current Opinion in Chemical Biology  journal\n",
       "2  9780470291092  Proceedings of the 5th Annual Conference on Co...     book\n",
       "3      1027-3662                    Journal of Theoretical Medicine  journal"
      ]
     },
     "execution_count": 21,
     "metadata": {},
     "output_type": "execute_result"
    }
   ],
   "source": [
    "df_venues = read_csv(\"../01/01-venues.csv\", \n",
    "                     keep_default_na=False,\n",
    "                     dtype={\n",
    "                         \"id\": \"string\",\n",
    "                         \"name\": \"string\",\n",
    "                         \"type\": \"string\"\n",
    "                     })\n",
    "df_venues  # draw the table in the notebook"
   ]
  },
  {
   "cell_type": "markdown",
   "id": "f60ee287-602d-455d-bac7-b9a1184f9c55",
   "metadata": {},
   "source": [
    "Thus, in order to run such a query, first we should ask to this new data frame which is the `id` associated to the journal named *Current Openion in Chemical Biology*, and then to ask the other data frame with publications to retrieve all the rows that have such an identifier as `publication venue`.\n",
    "\n",
    "However, in Pandas this can be done in just one query if we join before the two data frames in a new one containing a combination of the two tables. Indeed, as you can obsever, the data frame of publications and that of venues share some values in common. Indeed, as mentioned above, the values specified in the `publication venue` column in the publications data frame recall those specified in the `id` column of the venue data frame. Thus, in principle, it is possible to join these two tables by considering that common values. \n",
    "\n",
    "Pandas provides the [function `merge`](https://pandas.pydata.org/docs/user_guide/merging.html#database-style-dataframe-or-named-series-joining-merging) to perform such an operation. Among the various input parameters such a function can take in input, those we use in this example to join these two data frames are the data frames them self and the name of the columns in the first (named *left*) data frame and the second (named *right*) data frame to use for joining, specified by using the input named parameters `left_on` and `right_on` respectively, as shown in the following excerpt:"
   ]
  },
  {
   "cell_type": "code",
   "execution_count": 23,
   "id": "80cd48e9-a8c1-4490-ba39-c1cbfa64e43f",
   "metadata": {},
   "outputs": [
    {
     "data": {
      "text/html": [
       "<div>\n",
       "<style scoped>\n",
       "    .dataframe tbody tr th:only-of-type {\n",
       "        vertical-align: middle;\n",
       "    }\n",
       "\n",
       "    .dataframe tbody tr th {\n",
       "        vertical-align: top;\n",
       "    }\n",
       "\n",
       "    .dataframe thead th {\n",
       "        text-align: right;\n",
       "    }\n",
       "</style>\n",
       "<table border=\"1\" class=\"dataframe\">\n",
       "  <thead>\n",
       "    <tr style=\"text-align: right;\">\n",
       "      <th></th>\n",
       "      <th>doi</th>\n",
       "      <th>title</th>\n",
       "      <th>publication year</th>\n",
       "      <th>publication venue</th>\n",
       "      <th>type_x</th>\n",
       "      <th>issue</th>\n",
       "      <th>volume</th>\n",
       "      <th>id</th>\n",
       "      <th>name</th>\n",
       "      <th>type_y</th>\n",
       "    </tr>\n",
       "  </thead>\n",
       "  <tbody>\n",
       "    <tr>\n",
       "      <th>0</th>\n",
       "      <td>10.1002/cfg.304</td>\n",
       "      <td>Development of Computational Tools for the Inf...</td>\n",
       "      <td>2003</td>\n",
       "      <td>1531-6912</td>\n",
       "      <td>journal article</td>\n",
       "      <td>4</td>\n",
       "      <td>4</td>\n",
       "      <td>1531-6912</td>\n",
       "      <td>Comparative and Functional Genomics</td>\n",
       "      <td>journal</td>\n",
       "    </tr>\n",
       "    <tr>\n",
       "      <th>1</th>\n",
       "      <td>10.1016/s1367-5931(02)00332-0</td>\n",
       "      <td>In vitro selection as a powerful tool for the ...</td>\n",
       "      <td>2002</td>\n",
       "      <td>1367-5931</td>\n",
       "      <td>journal article</td>\n",
       "      <td>3</td>\n",
       "      <td>6</td>\n",
       "      <td>1367-5931</td>\n",
       "      <td>Current Opinion in Chemical Biology</td>\n",
       "      <td>journal</td>\n",
       "    </tr>\n",
       "    <tr>\n",
       "      <th>2</th>\n",
       "      <td>10.1002/9780470291092.ch20</td>\n",
       "      <td>Mechanisms of Toughening in Ceramic Matrix Com...</td>\n",
       "      <td>1981</td>\n",
       "      <td>9780470291092</td>\n",
       "      <td>book chapter</td>\n",
       "      <td></td>\n",
       "      <td></td>\n",
       "      <td>9780470291092</td>\n",
       "      <td>Proceedings of the 5th Annual Conference on Co...</td>\n",
       "      <td>book</td>\n",
       "    </tr>\n",
       "  </tbody>\n",
       "</table>\n",
       "</div>"
      ],
      "text/plain": [
       "                             doi  \\\n",
       "0                10.1002/cfg.304   \n",
       "1  10.1016/s1367-5931(02)00332-0   \n",
       "2     10.1002/9780470291092.ch20   \n",
       "\n",
       "                                               title  publication year  \\\n",
       "0  Development of Computational Tools for the Inf...              2003   \n",
       "1  In vitro selection as a powerful tool for the ...              2002   \n",
       "2  Mechanisms of Toughening in Ceramic Matrix Com...              1981   \n",
       "\n",
       "  publication venue           type_x issue volume             id  \\\n",
       "0         1531-6912  journal article     4      4      1531-6912   \n",
       "1         1367-5931  journal article     3      6      1367-5931   \n",
       "2     9780470291092     book chapter               9780470291092   \n",
       "\n",
       "                                                name   type_y  \n",
       "0                Comparative and Functional Genomics  journal  \n",
       "1                Current Opinion in Chemical Biology  journal  \n",
       "2  Proceedings of the 5th Annual Conference on Co...     book  "
      ]
     },
     "execution_count": 23,
     "metadata": {},
     "output_type": "execute_result"
    }
   ],
   "source": [
    "from pandas import merge\n",
    "\n",
    "df_joined = merge(df_publications, df_venues, left_on=\"publication venue\", right_on=\"id\")\n",
    "df_joined  # draw the table in the notebook"
   ]
  },
  {
   "cell_type": "markdown",
   "id": "22dad720-bda0-4b35-9bcc-8e27c5366f76",
   "metadata": {},
   "source": [
    "As you can see from the data frame above, all the rows of the publications data frame (the *left* data frame of the join) have been extended using the values specified in the venues data frame (the *right* data frame of the join) mapping the values in the columns `publication year` (in *left*) and `id` (in *right*). In addition, Pandas modifies the name of the columns that have the same name in both data frames of the join – indeed the columns `type` became `type_x` (refferring to *left*) and `type_y` (referring to *right*).\n",
    "\n",
    "Having this new data frame, the original query we wanted to run becomes pretty easy to define:"
   ]
  },
  {
   "cell_type": "code",
   "execution_count": 24,
   "id": "09cec392-0c9c-4e1e-b193-848c9d03a4c8",
   "metadata": {},
   "outputs": [
    {
     "data": {
      "text/html": [
       "<div>\n",
       "<style scoped>\n",
       "    .dataframe tbody tr th:only-of-type {\n",
       "        vertical-align: middle;\n",
       "    }\n",
       "\n",
       "    .dataframe tbody tr th {\n",
       "        vertical-align: top;\n",
       "    }\n",
       "\n",
       "    .dataframe thead th {\n",
       "        text-align: right;\n",
       "    }\n",
       "</style>\n",
       "<table border=\"1\" class=\"dataframe\">\n",
       "  <thead>\n",
       "    <tr style=\"text-align: right;\">\n",
       "      <th></th>\n",
       "      <th>doi</th>\n",
       "      <th>title</th>\n",
       "      <th>publication year</th>\n",
       "      <th>publication venue</th>\n",
       "      <th>type_x</th>\n",
       "      <th>issue</th>\n",
       "      <th>volume</th>\n",
       "      <th>id</th>\n",
       "      <th>name</th>\n",
       "      <th>type_y</th>\n",
       "    </tr>\n",
       "  </thead>\n",
       "  <tbody>\n",
       "    <tr>\n",
       "      <th>1</th>\n",
       "      <td>10.1016/s1367-5931(02)00332-0</td>\n",
       "      <td>In vitro selection as a powerful tool for the ...</td>\n",
       "      <td>2002</td>\n",
       "      <td>1367-5931</td>\n",
       "      <td>journal article</td>\n",
       "      <td>3</td>\n",
       "      <td>6</td>\n",
       "      <td>1367-5931</td>\n",
       "      <td>Current Opinion in Chemical Biology</td>\n",
       "      <td>journal</td>\n",
       "    </tr>\n",
       "  </tbody>\n",
       "</table>\n",
       "</div>"
      ],
      "text/plain": [
       "                             doi  \\\n",
       "1  10.1016/s1367-5931(02)00332-0   \n",
       "\n",
       "                                               title  publication year  \\\n",
       "1  In vitro selection as a powerful tool for the ...              2002   \n",
       "\n",
       "  publication venue           type_x issue volume         id  \\\n",
       "1         1367-5931  journal article     3      6  1367-5931   \n",
       "\n",
       "                                  name   type_y  \n",
       "1  Current Opinion in Chemical Biology  journal  "
      ]
     },
     "execution_count": 24,
     "metadata": {},
     "output_type": "execute_result"
    }
   ],
   "source": [
    "df_joined.query(\"type_y == 'journal' and name == 'Current Opinion in Chemical Biology'\")"
   ]
  },
  {
   "cell_type": "code",
   "execution_count": null,
   "id": "eddc8d19-2443-4053-9c22-662a5cffb88a",
   "metadata": {},
   "outputs": [],
   "source": []
  }
 ],
 "metadata": {
  "kernelspec": {
   "display_name": "Python 3",
   "language": "python",
   "name": "python3"
  },
  "language_info": {
   "codemirror_mode": {
    "name": "ipython",
    "version": 3
   },
   "file_extension": ".py",
   "mimetype": "text/x-python",
   "name": "python",
   "nbconvert_exporter": "python",
   "pygments_lexer": "ipython3",
   "version": "3.9.0"
  }
 },
 "nbformat": 4,
 "nbformat_minor": 5
}
