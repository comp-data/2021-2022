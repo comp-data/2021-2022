{
 "cells": [
  {
   "cell_type": "markdown",
   "id": "compatible-disabled",
   "metadata": {},
   "source": [
    "# Configuring and populating a graph database\n",
    "\n",
    "In this tutorial, we show how to use RDF and Blazegraph to create a graph database using Python."
   ]
  },
  {
   "cell_type": "markdown",
   "id": "unavailable-torture",
   "metadata": {},
   "source": [
    "## What is RDF\n",
    "\n",
    "The [Resource Description Framework (RDF)](https://en.wikipedia.org/wiki/Resource_Description_Framework) is a high-level data model (some times it is improperly called \"language\") based on triples *subject-predicate-object* called statements. For instance, a simple natural language sentence such as <span style=\"color: red\">*Umberto Eco is author of The name of the rose*</span> can be expressed through an RDF statement assigning to:\n",
    "\n",
    "* <span style=\"color: red\">*Umberto Eco*</span> the role of subject;\n",
    "* <span style=\"color: red\">*is author of*</span> the role of predicate;\n",
    "* <span style=\"color: red\">*The name of the rose*</span> the role of object.\n",
    "\n",
    "The main entities comprising RDF are listed as follows.\n",
    "\n",
    "\n",
    "### Resources\n",
    "\n",
    "A *resource* is an object we want to talk about, and it is identified by an [IRI](https://en.wikipedia.org/wiki/Internationalized_Resource_Identifier). IRIs are the most generic class of Internet identifiers for resources, but often [HTTP URLs](https://en.wikipedia.org/wiki/URL) are used instead, which may be considered a subclass of IRIs (e.g. the [URL `http://www.wikidata.org/entity/Q12807`](http://www.wikidata.org/entity/Q12807) identifies Umberto Eco in [Wikidata](https://wikidata.org)).\n",
    "\n",
    "\n",
    "### Properties\n",
    "\n",
    "A *property* is a special type of resource since it is used to describe relation between resources, and it is identified by an IRI (e.g. the [URL `http://www.wikidata.org/prop/direct/P800`](http://www.wikidata.org/entity/P800) identifies the property *has notable work* - which mimic the <span style=\"color: red\">*is author of*</span> predicate of the statement above).\n",
    "\n",
    "\n",
    "### Statements\n",
    "\n",
    "*Statements* enable one to assert properties between resources. Each statement is a triple subject-predicate-object, where the subject is a resource, the predicate is a property, and the object is either a resource or a literal (i.e. a string). \n",
    "\n",
    "There are different notations that can be used to represent statements in RDF in plain text files. The simplest (and most verbose) one is called [N-Triples](https://en.wikipedia.org/wiki/N-Triples). It allows to define statements according to the following syntax:\n",
    "\n",
    "```\n",
    "# 1) statement with a resource as an object\n",
    "<IRI subject> <IRI predicate> <IRI object> .\n",
    "\n",
    "# 2) statement with a literal as an object\n",
    "<IRI subject> <IRI predicate> \"literal value\"^^<IRI type of value> .\n",
    "```\n",
    "\n",
    "Type (1) statements must be used to state relationships between resources, while type (2) statements are generally used to associate attributes to a specific resource (the IRI defining the type of value is not specified for generic literals, i.e. strings). For instance, in Wikidata, the exemplar sentence above (<span style=\"color: red\">*Umberto Eco is author of The name of the rose*</span>) is defined by three distict RDF statements:\n",
    "\n",
    "```\n",
    "<http://www.wikidata.org/entity/Q12807> <http://www.w3.org/2000/01/rdf-schema#label> \"Umberto Eco\" .\n",
    "\n",
    "<http://www.wikidata.org/entity/Q172850> <http://www.w3.org/2000/01/rdf-schema#label> \"The Name of the Rose\" .\n",
    "\n",
    "<http://www.wikidata.org/entity/Q12807> <http://www.wikidata.org/prop/direct/P800> <http://www.wikidata.org/entity/Q172850> .\n",
    "```\n",
    "\n",
    "Actually, the relation described by the natural language sentence is defined by the third RDF statement above. However, two additional statements have been added to associate the strings representing the name of the resources referring to *Umberto Eco* and *The name of the rose*. Be aware: literals (i.e. simple values) cannot be subjects in any statement.\n",
    "\n",
    "\n",
    "### A special property\n",
    "\n",
    "While all the properties you can use in your statements as predicates can be defined in several distinct vocabularies (the [Wikidata data model](https://www.wikidata.org/wiki/Wikidata:List_of_properties), [schema.org data model](https://schema.org/docs/datamodel.html), etc.), RDF defines a special property that is used to associate a resource to its intended type (e.g. another resource representing a class of resources). The IRI of this property is `http://www.w3.org/1999/02/22-rdf-syntax-ns#type`. For instance, we can use this property to assign the appropriate type of object to the two entities defined in the excerpt above, i.e. that referencing to *Umberto Eco* and *The name of the rose*, as shown as follows:\n",
    "\n",
    "```\n",
    "<http://www.wikidata.org/entity/Q12807> <http://www.w3.org/1999/02/22-rdf-syntax-ns#type> <https://schema.org/Person> .\n",
    "\n",
    "<http://www.wikidata.org/entity/Q172850> <http://www.w3.org/1999/02/22-rdf-syntax-ns#type> <https://schema.org/Book> .\n",
    "```\n",
    "\n",
    "In the example above, we reuse two existing classes of resources included in [schema.org](https://schema.org) for people and books. It is worth mentioning that an existing resource can be associated via `http://www.w3.org/1999/02/22-rdf-syntax-ns#type` to one or more types, if they apply.\n",
    "\n",
    "\n",
    "### RDF Graphs\n",
    "\n",
    "An *RDF Graph* is a set of RDF statements. For instance, a file that contains RDF statements represents an RDF graph, and IRIs contained in different graph actually refer to the same resource. \n",
    "\n",
    "We talk about graphs in this context because all the RDF statements, and the resources they include, actually defined a direct graph structure, where the direct edges are labelled with the predicates of the statements and the subjects and objects are nodes linked through such edges. For instance, the diagram below represents all the RDF statements introduced above using a visual graph.\n",
    "\n",
    "![An image of the RDF graph presented in the RDF statements above](rdfgraph.png)\n",
    "\n",
    "\n",
    "### Triplestores\n",
    "\n",
    "A *triplestore* is a database built for storing and retrieving RDF statements, and can contain one or more RDF graphs."
   ]
  },
  {
   "cell_type": "markdown",
   "id": "drawn-identifier",
   "metadata": {},
   "source": [
    "## Blazegraph, a database for RDF data\n",
    "\n",
    "[Blazegraph DB](https://blazegraph.com/) is a ultra high-performance graph database supporting RDF/SPARQL APIs (thus, it is a triplestore). It supports up to 50 Billion edges on a single machine. Its code is entirely [open source and available on GitHub](https://github.com/blazegraph/database). \n",
    "\n",
    "Running this database as a server application is very simple. One has just to [download the .jar application](https://github.com/blazegraph/database/releases/download/BLAZEGRAPH_2_1_6_RC/blazegraph.jar), put it in a directory, and [run it](https://github.com/blazegraph/database/wiki/Quick_Start) from a shell as follows:\n",
    "\n",
    "```\n",
    "java -server -Xmx1g -jar blazegraph.jar\n",
    "```\n",
    "\n",
    "You need at least Java 9 installed in your system. If you do not have it, you can easily dowload and install it from the [Java webpage](https://www.java.com/it/download/manual.jsp). As you can see from the output of the command above, the database will be exposed via HTTP at a specific IP address:\n",
    "\n",
    "![Screenshot of the execution of Blazegraph](blazegraph.png)\n",
    "\n",
    "However, from your local machine, you can always contact it at the following URL:\n",
    "\n",
    "```\n",
    "http://127.0.0.1:9999/blazegraph/\n",
    "```"
   ]
  },
  {
   "cell_type": "markdown",
   "id": "affiliated-enough",
   "metadata": {},
   "source": [
    "## From a diagram to a graph\n",
    "\n",
    "As you can see, the UML diagram introduced in the previous lecture, which I recall below, is already organised as a (directed) graph. Thus, translating such a data model into an RDF graph database is kind of straightforward.\n",
    "\n",
    "![UML diagram of a data model](../02/uml.png)\n",
    "\n",
    "The important thing to decide, in this context, is to clarify what are the names (i.e. the URLs) of the classes and properties to use to represent the data compliant with the data model. In particular:\n",
    "\n",
    "* supposing that each resource will be assigned to at least one of the types defined in the data model, we need to identify the names of all the most concrete classes (e.g. `JournalArticle`, `BookChapter`, `Journal`, `Book`);\n",
    "\n",
    "* each attribute of each UML class will be represented by a distinct RDF property which will be involved in statements where the subjects are always resources of the class in consideration and the objects are simple literals (i.e. values). Of course, we have to identify the names of these properties (i.e. the URLs);\n",
    "\n",
    "* each relation starting from an UML class and ending in another UML class will be represented by a distinct RDF property which will be involved in statements where the subjects are always resources of the source class while the objects are resources of the target class. Of course, we have to identify the names of these properties (i.e. the URLs);\n",
    "\n",
    "* please, bear in mind that all attributes and relations defined in a class are inherited (i.e. can be used by) all its subclasses.\n",
    "\n",
    "You can choose to reuse existing classes and properties (e.g. as defined in [schema.org](https://schema.org)) or create your own. In the latter case, you have to remind to use an URL you are in control of (e.g. your website or GitHub repository). For instance, a possible pattern for defining your own name for the class `Book` could be `https://<your website>/Book` (e.g. `https://essepuntato.it/Book`). Of course, there are strategies and guidelines that should be used to implement appropriately data model in RDF-compliant languages. However these are out of the scope of the present course (and will be clarified in other courses).\n",
    "\n",
    "The name of all the classes and properties I will use in the examples in this tutorial are as follows:\n",
    "\n",
    "* UML class `JournalArticle`: `https://schema.org/ScholarlyArticle`;\n",
    "* UML class `BookChapter`: `https://schema.org/Chapter`;\n",
    "* UML class `Journal`: `https://schema.org/Periodical`;\n",
    "* UML class `Book`: `https://schema.org/Book`;\n",
    "* UML attribute `doi` of class `Publication`: `https://schema.org/identifier`;\n",
    "* UML attribute `publicationYear` of class `Publication`: `https://schema.org/datePublished`;\n",
    "* UML attribute `title` of class `Publication`: `https://schema.org/name`;\n",
    "* UML attribute `issue` of class `JournalArticle`: `https://schema.org/issueNumber`;\n",
    "* UML attribute `volume` of class `JournalArticle`: `https://schema.org/volumeNumber`;\n",
    "* UML attribute `id` of class `Venue`: `https://schema.org/identifier`;\n",
    "* UML attribute `name` of class `Venue`: `https://schema.org/name`;\n",
    "* UML relation `publicationVenue` of class `Publication`: `https://schema.org/isPartOf`."
   ]
  },
  {
   "cell_type": "markdown",
   "id": "personal-values",
   "metadata": {},
   "source": [
    "## Using RDF in Python\n",
    "\n",
    "The [library `rdflib`](https://rdflib.readthedocs.io/en/stable/) provides classes and methods that allow one to create RDF graphs and populating them with RDF statements. It can be installed using the `pip` command as follows: \n",
    "\n",
    "```\n",
    "pip install rdflib\n",
    "```\n",
    "\n",
    "The [class `Graph`](https://rdflib.readthedocs.io/en/stable/apidocs/rdflib.html#rdflib.graph.Graph) is used to create an (initially empty) RDF graph, as shown as follows:"
   ]
  },
  {
   "cell_type": "code",
   "execution_count": 13,
   "id": "historic-transcript",
   "metadata": {},
   "outputs": [],
   "source": [
    "from rdflib import Graph\n",
    "\n",
    "my_graph = Graph()"
   ]
  },
  {
   "cell_type": "markdown",
   "id": "environmental-marker",
   "metadata": {},
   "source": [
    "All the resources (including the properties) are defined using the [class `URIRef`](https://rdflib.readthedocs.io/en/stable/apidocs/rdflib.html#rdflib.term.URIRef). The constructor of this class takes in input a string representing the IRI (or URL) of the resource in consideration. For instance, the code below shows all the resources mentioned above, i.e. those referring to classes, attributes and relations:"
   ]
  },
  {
   "cell_type": "code",
   "execution_count": 14,
   "id": "scientific-norfolk",
   "metadata": {},
   "outputs": [],
   "source": [
    "from rdflib import URIRef\n",
    "\n",
    "# classes of resources\n",
    "JournalArticle = URIRef(\"https://schema.org/ScholarlyArticle\")\n",
    "BookChapter = URIRef(\"https://schema.org/Chapter\")\n",
    "Journal = URIRef(\"https://schema.org/Periodical\")\n",
    "Book = URIRef(\"https://schema.org/Book\")\n",
    "\n",
    "# attributes related to classes\n",
    "doi = URIRef(\"https://schema.org/identifier\")\n",
    "publicationYear = URIRef(\"https://schema.org/datePublished\")\n",
    "title = URIRef(\"https://schema.org/name\")\n",
    "issue = URIRef(\"https://schema.org/issueNumber\")\n",
    "volume = URIRef(\"https://schema.org/volumeNumber\")\n",
    "identifier = URIRef(\"https://schema.org/identifier\")\n",
    "name = URIRef(\"https://schema.org/name\")\n",
    "\n",
    "# relations among classes\n",
    "publicationVenue = URIRef(\"https://schema.org/isPartOf\")"
   ]
  },
  {
   "cell_type": "markdown",
   "id": "competitive-louis",
   "metadata": {},
   "source": [
    "Instead, literals (i.e. value to specify as objects of RDF statements) can be created using the [class `Literal`](https://rdflib.readthedocs.io/en/stable/apidocs/rdflib.html#rdflib.term.Literal). The constructor of this class takes in input a value (of any basic type: it can be a string, an integer, etc.) and create the related literal object in RDF, as shown in the next excerpt:"
   ]
  },
  {
   "cell_type": "code",
   "execution_count": 15,
   "id": "functioning-lemon",
   "metadata": {},
   "outputs": [],
   "source": [
    "from rdflib import Literal\n",
    "\n",
    "a_string = Literal(\"a string with this value\")\n",
    "a_number = Literal(42)\n",
    "a_boolean = Literal(True)"
   ]
  },
  {
   "cell_type": "markdown",
   "id": "trying-chaos",
   "metadata": {},
   "source": [
    "Using these classes it is possible to create all the Python objects necessary to create statements describing all the data to be pushed into an RDF graph. We need to use the [method `add`](https://rdflib.readthedocs.io/en/stable/apidocs/rdflib.html#rdflib.Graph.add) to add a new RDF statement to a graph. Such method takes in input a tuple of three elements defining the subject (an `URIRef`), the predicate (another `URIRef`) and the object (either an `URIRef` or a `Literal`) of the statements.\n",
    "\n",
    "The following code show how to populate the RDF graph defining using the data obtained by processing the two CSV documents presented in previous tutorials. i.e. [that of the publications](../01/01-publications.csv) and [that of the venues](../01/01-venues.csv). For instance, all the venues are created using the following code:"
   ]
  },
  {
   "cell_type": "code",
   "execution_count": 16,
   "id": "ultimate-circle",
   "metadata": {},
   "outputs": [],
   "source": [
    "from pandas import read_csv, Series\n",
    "from rdflib import RDF\n",
    "\n",
    "# This is the string defining the base URL used to defined\n",
    "# the URLs of all the resources created from the data\n",
    "base_url = \"https://comp-data.github.io/res/\"\n",
    "\n",
    "venues = read_csv(\"../01/01-venues.csv\", \n",
    "                  keep_default_na=False,\n",
    "                  dtype={\n",
    "                      \"id\": \"string\",\n",
    "                      \"name\": \"string\",\n",
    "                      \"type\": \"string\"\n",
    "                  })\n",
    "\n",
    "venue_internal_id = {}\n",
    "for idx, row in venues.iterrows():\n",
    "    local_id = \"venue-\" + str(idx)\n",
    "    \n",
    "    # The shape of the new resources that are venues is\n",
    "    # 'https://comp-data.github.io/res/venue-<integer>'\n",
    "    subj = URIRef(base_url + local_id)\n",
    "    \n",
    "    # We put the new venue resources created here, to use them\n",
    "    # when creating publications\n",
    "    venue_internal_id[row[\"id\"]] = subj\n",
    "    \n",
    "    if row[\"type\"] == \"journal\":\n",
    "        # RDF.type is the URIRef already provided by rdflib of the property \n",
    "        # 'http://www.w3.org/1999/02/22-rdf-syntax-ns#type'\n",
    "        my_graph.add((subj, RDF.type, Journal))\n",
    "    else:\n",
    "        my_graph.add((subj, RDF.type, Book))\n",
    "    \n",
    "    my_graph.add((subj, name, Literal(row[\"name\"])))\n",
    "    my_graph.add((subj, identifier, Literal(row[\"id\"])))"
   ]
  },
  {
   "cell_type": "markdown",
   "id": "increasing-leisure",
   "metadata": {},
   "source": [
    "As you can see, all the RDF triples have been added to the graph, that currently contain the following number of distinct triples (which is coincident with the number of cells in the original table):"
   ]
  },
  {
   "cell_type": "code",
   "execution_count": 17,
   "id": "attractive-genius",
   "metadata": {},
   "outputs": [
    {
     "name": "stdout",
     "output_type": "stream",
     "text": [
      "-- Number of triples added to the graph after processing the venues\n",
      "12\n"
     ]
    }
   ],
   "source": [
    "print(\"-- Number of triples added to the graph after processing the venues\")\n",
    "print(len(my_graph))"
   ]
  },
  {
   "cell_type": "markdown",
   "id": "psychological-marketplace",
   "metadata": {},
   "source": [
    "The same approach can be used to add information about the publications, as shown as follows:"
   ]
  },
  {
   "cell_type": "code",
   "execution_count": 18,
   "id": "flexible-affiliate",
   "metadata": {},
   "outputs": [],
   "source": [
    "publications = read_csv(\"../01/01-publications.csv\", \n",
    "                        keep_default_na=False,\n",
    "                        dtype={\n",
    "                            \"doi\": \"string\",\n",
    "                            \"title\": \"string\",\n",
    "                            \"publication year\": \"int\",\n",
    "                            \"publication venue\": \"string\",\n",
    "                            \"type\": \"string\",\n",
    "                            \"issue\": \"string\",\n",
    "                            \"volume\": \"string\"\n",
    "                        })\n",
    "\n",
    "for idx, row in publications.iterrows():\n",
    "    local_id = \"publication-\" + str(idx)\n",
    "    \n",
    "    # The shape of the new resources that are publications is\n",
    "    # 'https://comp-data.github.io/res/publication-<integer>'\n",
    "    subj = URIRef(base_url + local_id)\n",
    "    \n",
    "    if row[\"type\"] == \"journal article\":\n",
    "        my_graph.add((subj, RDF.type, JournalArticle))\n",
    "\n",
    "        # These two statements applies only to journal articles\n",
    "        my_graph.add((subj, issue, Literal(row[\"issue\"])))\n",
    "        my_graph.add((subj, volume, Literal(row[\"volume\"])))\n",
    "    else:\n",
    "        my_graph.add((subj, RDF.type, BookChapter))\n",
    "    \n",
    "    my_graph.add((subj, name, Literal(row[\"title\"])))\n",
    "    my_graph.add((subj, identifier, Literal(row[\"doi\"])))\n",
    "    \n",
    "    # The original value here has been casted to string since the Date type\n",
    "    # in schema.org ('https://schema.org/Date') is actually a string-like value\n",
    "    my_graph.add((subj, publicationYear, Literal(str(row[\"publication year\"]))))\n",
    "    \n",
    "    # The URL of the related publication venue is taken from the previous\n",
    "    # dictionary defined when processing the venues\n",
    "    my_graph.add((subj, publicationVenue, venue_internal_id[row[\"publication venue\"]]))"
   ]
  },
  {
   "cell_type": "markdown",
   "id": "taken-trace",
   "metadata": {},
   "source": [
    "After the addition of this new statements, the number of total RDF triples added to the graph is equal to all the cells in the venue CSV plus all the non-empty cells in the publication CSV:"
   ]
  },
  {
   "cell_type": "code",
   "execution_count": 19,
   "id": "identified-transfer",
   "metadata": {},
   "outputs": [
    {
     "name": "stdout",
     "output_type": "stream",
     "text": [
      "-- Number of triples added to the graph after processing venues and publications\n",
      "31\n"
     ]
    }
   ],
   "source": [
    "print(\"-- Number of triples added to the graph after processing venues and publications\")\n",
    "print(len(my_graph))"
   ]
  },
  {
   "cell_type": "markdown",
   "id": "operational-sacrifice",
   "metadata": {},
   "source": [
    "It is worth mentioning that we should not map in RDF cells in the original table that do not contain any value. Thus, if for instance there is an `issue` cell in the publication CSV which is empty (i.e. no information about the issue have been specified), you should not create any RDF statement mapping such a non-information."
   ]
  },
  {
   "cell_type": "markdown",
   "id": "partial-communication",
   "metadata": {},
   "source": [
    "## How to create and populate a graph database with Python\n",
    "\n",
    "Once we have created our graph with all the triples we need, we can upload persistently the graph on our triplestore. In order to do that, we have to create an instance of the [class `SPARQLUpdateStore`](https://rdflib.readthedocs.io/en/stable/apidocs/rdflib.plugins.stores.html#rdflib.plugins.stores.sparqlstore.SPARQLUpdateStore), which acts as a proxy to interact with the triplestore. The important thing is to open the connection with the store passing, as input, a tuple of two strings with the same URLs, defining the SPARQL endpoint of the triplestore where to upload the data.\n",
    "\n",
    "Then, we can upload triple by triple using a for-each iteration over the list of RDF statements obtained by using the [method `triples`](https://rdflib.readthedocs.io/en/stable/apidocs/rdflib.html#rdflib.graph.Graph.triples) of the class `Graph`, passing as input a tuple with three `None` values, as shown as follows:"
   ]
  },
  {
   "cell_type": "code",
   "execution_count": 20,
   "id": "saved-prescription",
   "metadata": {},
   "outputs": [],
   "source": [
    "from rdflib.plugins.stores.sparqlstore import SPARQLUpdateStore\n",
    "\n",
    "store = SPARQLUpdateStore()\n",
    "\n",
    "# The URL of the SPARQL endpoint is the same URL of the Blazegraph\n",
    "# instance + '/sparql'\n",
    "endpoint = 'http://127.0.0.1:9999/blazegraph/sparql'\n",
    "\n",
    "# It opens the connection with the SPARQL endpoint instance\n",
    "store.open((endpoint, endpoint))\n",
    "\n",
    "for triple in my_graph.triples((None, None, None)):\n",
    "   store.add(triple)\n",
    "    \n",
    "# Once finished, remeber to close the connection\n",
    "store.close()"
   ]
  }
 ],
 "metadata": {
  "kernelspec": {
   "display_name": "Python 3",
   "language": "python",
   "name": "python3"
  },
  "language_info": {
   "codemirror_mode": {
    "name": "ipython",
    "version": 3
   },
   "file_extension": ".py",
   "mimetype": "text/x-python",
   "name": "python",
   "nbconvert_exporter": "python",
   "pygments_lexer": "ipython3",
   "version": "3.9.0"
  }
 },
 "nbformat": 4,
 "nbformat_minor": 5
}
