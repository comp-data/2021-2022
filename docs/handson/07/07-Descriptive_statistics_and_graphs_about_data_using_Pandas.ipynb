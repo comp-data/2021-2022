{
 "cells": [
  {
   "cell_type": "markdown",
   "id": "87b0d2e6-6faa-4369-bc0d-ae264867eecf",
   "metadata": {},
   "source": [
    "# Descriptive statistics and graphs about data using Pandas\n",
    "\n",
    "In this tutorial, we show how to use Pandas to calculate basic statistics of a dataset and show figures using automatically-generated graphs."
   ]
  },
  {
   "cell_type": "markdown",
   "id": "8df28521-9b3f-4b22-9419-86765174f02c",
   "metadata": {},
   "source": [
    "## What data are about\n",
    "\n",
    "When you receive a new dataset (such as [the one included in this tutorial](\"07-publications.csv\")), the first you have to do is to look in here in order to understand what data are about, how they have been organised, what is the type of each column, and whether there are any *null* object included in it (e.g. empty cells). In a previous tutorial, we have used an input parameter specified on the function `read_csv` (i.e. `keep_default_na` set to `False`) to rewrite empty cell values as empty strings (i.e. `\"\"`). However, by doing so, we may miss some relevant information about the dataset that we should know from the beginning. Let us see it practically with an example, using the `DataFrame` [method `info`](https://pandas.pydata.org/docs/reference/api/pandas.DataFrame.info.html) that enables us to have a summary of the data frame:"
   ]
  },
  {
   "cell_type": "code",
   "execution_count": 186,
   "id": "cf457c7c-ae3a-4797-ac48-5a3697458be8",
   "metadata": {},
   "outputs": [
    {
     "name": "stdout",
     "output_type": "stream",
     "text": [
      "<class 'pandas.core.frame.DataFrame'>\n",
      "RangeIndex: 995 entries, 0 to 994\n",
      "Data columns (total 7 columns):\n",
      " #   Column             Non-Null Count  Dtype \n",
      "---  ------             --------------  ----- \n",
      " 0   doi                995 non-null    object\n",
      " 1   title              995 non-null    object\n",
      " 2   publication year   995 non-null    int64 \n",
      " 3   publication venue  995 non-null    object\n",
      " 4   type               995 non-null    object\n",
      " 5   issue              995 non-null    object\n",
      " 6   volume             995 non-null    object\n",
      "dtypes: int64(1), object(6)\n",
      "memory usage: 54.5+ KB\n"
     ]
    }
   ],
   "source": [
    "from pandas import read_csv\n",
    "\n",
    "publications = read_csv(\"07-publications.csv\", keep_default_na=False)\n",
    "publications.info()"
   ]
  },
  {
   "cell_type": "markdown",
   "id": "35af3ee4-60d3-4aa4-9c1e-a639e3f6dcdb",
   "metadata": {},
   "source": [
    "As you can see from the text printed on screen, this seems a perfect dataset: 995 rows, entries organised in seven columns and each cell contains only non-null values. However, is it really the case? The problem here is that, by avoiding to use the default mechanism to assign empty cells, the systems does not recognize them as empty, but rather containing something (e.g. the the empty string `\"\"`) which indeed does not contain any charater but, still, is a value associated with a cell.\n",
    "\n",
    "Thus, as a suggestion, when you approach for the very first time a dataset using Pandas, leave the system use its own favourite ways to handle situations (such as empty cells) and observe what this may mean. The following code show the same description reported above leaving the system to handle empty cells as it prefers:"
   ]
  },
  {
   "cell_type": "code",
   "execution_count": 187,
   "id": "aef4a7ba-0bf4-4c01-b493-0a194d94e6bc",
   "metadata": {},
   "outputs": [
    {
     "name": "stdout",
     "output_type": "stream",
     "text": [
      "<class 'pandas.core.frame.DataFrame'>\n",
      "RangeIndex: 995 entries, 0 to 994\n",
      "Data columns (total 7 columns):\n",
      " #   Column             Non-Null Count  Dtype \n",
      "---  ------             --------------  ----- \n",
      " 0   doi                995 non-null    object\n",
      " 1   title              989 non-null    object\n",
      " 2   publication year   995 non-null    int64 \n",
      " 3   publication venue  981 non-null    object\n",
      " 4   type               995 non-null    object\n",
      " 5   issue              505 non-null    object\n",
      " 6   volume             970 non-null    object\n",
      "dtypes: int64(1), object(6)\n",
      "memory usage: 54.5+ KB\n"
     ]
    }
   ],
   "source": [
    "publications = read_csv(\"07-publications.csv\")\n",
    "publications.info()"
   ]
  },
  {
   "cell_type": "markdown",
   "id": "3207d45a-50ba-410f-9149-0bb396eace63",
   "metadata": {},
   "source": [
    "As you can see, now the description is slightly different. Indeed, the only columns having always a non-null value specified are `doi`, `publication year` and `type`, while the other columns have, somewhere, some cell left unspecified - which is reasonable, if you think about it. For instance, a book chapter does not have any issue or volume and, thus, the related cells bust be empty in such a record."
   ]
  },
  {
   "cell_type": "markdown",
   "id": "b0cfbd44-a98d-4f16-b74c-0b002bb454c1",
   "metadata": {},
   "source": [
    "After you got an idea of what kind of columns are included in the data frame, we can move on asking for more information about the values of each column. For retrieving this information, we use the [method `describe`](https://pandas.pydata.org/docs/reference/api/pandas.DataFrame.describe.html). If you want to obtain an overall view contained in a new data frame describing the one on which the method is called, the suggestion is to call such a method using the optional input named parameter `include` set to `\"all\"`, as shown in the following excerpt:"
   ]
  },
  {
   "cell_type": "code",
   "execution_count": 189,
   "id": "d6f0f7b5-7242-4137-94c1-78dbe1286603",
   "metadata": {},
   "outputs": [
    {
     "data": {
      "text/html": [
       "<div>\n",
       "<style scoped>\n",
       "    .dataframe tbody tr th:only-of-type {\n",
       "        vertical-align: middle;\n",
       "    }\n",
       "\n",
       "    .dataframe tbody tr th {\n",
       "        vertical-align: top;\n",
       "    }\n",
       "\n",
       "    .dataframe thead th {\n",
       "        text-align: right;\n",
       "    }\n",
       "</style>\n",
       "<table border=\"1\" class=\"dataframe\">\n",
       "  <thead>\n",
       "    <tr style=\"text-align: right;\">\n",
       "      <th></th>\n",
       "      <th>doi</th>\n",
       "      <th>title</th>\n",
       "      <th>publication year</th>\n",
       "      <th>publication venue</th>\n",
       "      <th>type</th>\n",
       "      <th>issue</th>\n",
       "      <th>volume</th>\n",
       "    </tr>\n",
       "  </thead>\n",
       "  <tbody>\n",
       "    <tr>\n",
       "      <th>count</th>\n",
       "      <td>995</td>\n",
       "      <td>989</td>\n",
       "      <td>995.000000</td>\n",
       "      <td>981</td>\n",
       "      <td>995</td>\n",
       "      <td>505</td>\n",
       "      <td>970</td>\n",
       "    </tr>\n",
       "    <tr>\n",
       "      <th>unique</th>\n",
       "      <td>995</td>\n",
       "      <td>988</td>\n",
       "      <td>NaN</td>\n",
       "      <td>392</td>\n",
       "      <td>5</td>\n",
       "      <td>75</td>\n",
       "      <td>279</td>\n",
       "    </tr>\n",
       "    <tr>\n",
       "      <th>top</th>\n",
       "      <td>10.1021/jo030248h</td>\n",
       "      <td>Transformation toughening</td>\n",
       "      <td>NaN</td>\n",
       "      <td>Materials Science Forum</td>\n",
       "      <td>journal article</td>\n",
       "      <td>1</td>\n",
       "      <td>2006</td>\n",
       "    </tr>\n",
       "    <tr>\n",
       "      <th>freq</th>\n",
       "      <td>1</td>\n",
       "      <td>2</td>\n",
       "      <td>NaN</td>\n",
       "      <td>169</td>\n",
       "      <td>970</td>\n",
       "      <td>84</td>\n",
       "      <td>92</td>\n",
       "    </tr>\n",
       "    <tr>\n",
       "      <th>mean</th>\n",
       "      <td>NaN</td>\n",
       "      <td>NaN</td>\n",
       "      <td>1995.788945</td>\n",
       "      <td>NaN</td>\n",
       "      <td>NaN</td>\n",
       "      <td>NaN</td>\n",
       "      <td>NaN</td>\n",
       "    </tr>\n",
       "    <tr>\n",
       "      <th>std</th>\n",
       "      <td>NaN</td>\n",
       "      <td>NaN</td>\n",
       "      <td>18.224005</td>\n",
       "      <td>NaN</td>\n",
       "      <td>NaN</td>\n",
       "      <td>NaN</td>\n",
       "      <td>NaN</td>\n",
       "    </tr>\n",
       "    <tr>\n",
       "      <th>min</th>\n",
       "      <td>NaN</td>\n",
       "      <td>NaN</td>\n",
       "      <td>1886.000000</td>\n",
       "      <td>NaN</td>\n",
       "      <td>NaN</td>\n",
       "      <td>NaN</td>\n",
       "      <td>NaN</td>\n",
       "    </tr>\n",
       "    <tr>\n",
       "      <th>25%</th>\n",
       "      <td>NaN</td>\n",
       "      <td>NaN</td>\n",
       "      <td>1993.000000</td>\n",
       "      <td>NaN</td>\n",
       "      <td>NaN</td>\n",
       "      <td>NaN</td>\n",
       "      <td>NaN</td>\n",
       "    </tr>\n",
       "    <tr>\n",
       "      <th>50%</th>\n",
       "      <td>NaN</td>\n",
       "      <td>NaN</td>\n",
       "      <td>2003.000000</td>\n",
       "      <td>NaN</td>\n",
       "      <td>NaN</td>\n",
       "      <td>NaN</td>\n",
       "      <td>NaN</td>\n",
       "    </tr>\n",
       "    <tr>\n",
       "      <th>75%</th>\n",
       "      <td>NaN</td>\n",
       "      <td>NaN</td>\n",
       "      <td>2006.000000</td>\n",
       "      <td>NaN</td>\n",
       "      <td>NaN</td>\n",
       "      <td>NaN</td>\n",
       "      <td>NaN</td>\n",
       "    </tr>\n",
       "    <tr>\n",
       "      <th>max</th>\n",
       "      <td>NaN</td>\n",
       "      <td>NaN</td>\n",
       "      <td>2012.000000</td>\n",
       "      <td>NaN</td>\n",
       "      <td>NaN</td>\n",
       "      <td>NaN</td>\n",
       "      <td>NaN</td>\n",
       "    </tr>\n",
       "  </tbody>\n",
       "</table>\n",
       "</div>"
      ],
      "text/plain": [
       "                      doi                      title  publication year  \\\n",
       "count                 995                        989        995.000000   \n",
       "unique                995                        988               NaN   \n",
       "top     10.1021/jo030248h  Transformation toughening               NaN   \n",
       "freq                    1                          2               NaN   \n",
       "mean                  NaN                        NaN       1995.788945   \n",
       "std                   NaN                        NaN         18.224005   \n",
       "min                   NaN                        NaN       1886.000000   \n",
       "25%                   NaN                        NaN       1993.000000   \n",
       "50%                   NaN                        NaN       2003.000000   \n",
       "75%                   NaN                        NaN       2006.000000   \n",
       "max                   NaN                        NaN       2012.000000   \n",
       "\n",
       "              publication venue             type issue volume  \n",
       "count                       981              995   505    970  \n",
       "unique                      392                5    75    279  \n",
       "top     Materials Science Forum  journal article     1   2006  \n",
       "freq                        169              970    84     92  \n",
       "mean                        NaN              NaN   NaN    NaN  \n",
       "std                         NaN              NaN   NaN    NaN  \n",
       "min                         NaN              NaN   NaN    NaN  \n",
       "25%                         NaN              NaN   NaN    NaN  \n",
       "50%                         NaN              NaN   NaN    NaN  \n",
       "75%                         NaN              NaN   NaN    NaN  \n",
       "max                         NaN              NaN   NaN    NaN  "
      ]
     },
     "execution_count": 189,
     "metadata": {},
     "output_type": "execute_result"
    }
   ],
   "source": [
    "publications.describe(include=\"all\")"
   ]
  },
  {
   "cell_type": "markdown",
   "id": "4dbb887a-412a-4ea9-8754-2ec2cfe52f03",
   "metadata": {},
   "source": [
    "The data frame above provide a pletora of different [statistics](https://pandas.pydata.org/docs/user_guide/basics.html#descriptive-statistics) about each single column of the original data, some of them applies to a certain columns while other do not. For instance, all the statistics about number manipulations (`mean`, `std`, `min`, etc.) do not apply with strings, and thus a `NaN` is returned in these cases.\n",
    "\n",
    "Some of these statistics are very useful, and allow you to understand something about the data without looking at all of them. For instance:\n",
    "\n",
    "* there are two publications sharing the same title, that is \"Transformation toughening\";\n",
    "* some of the publications (6) does not have a title associated;\n",
    "* while all the publications have a type specified, overall these types come from 5 distinct values only (they seem to highlight descriptive categories);\n",
    "* the oldest publication was published in 1886 while the newest in 2013.\n",
    "\n",
    "Looking at these information, one could be curious about how can exist two publications with the same title. To get more information about it, we can run a query catching all the publications having in common the title \"Transformation toughening\":"
   ]
  },
  {
   "cell_type": "code",
   "execution_count": 191,
   "id": "e225e6e0-3d6d-43f4-b6d3-c8b0557bb590",
   "metadata": {},
   "outputs": [
    {
     "data": {
      "text/html": [
       "<div>\n",
       "<style scoped>\n",
       "    .dataframe tbody tr th:only-of-type {\n",
       "        vertical-align: middle;\n",
       "    }\n",
       "\n",
       "    .dataframe tbody tr th {\n",
       "        vertical-align: top;\n",
       "    }\n",
       "\n",
       "    .dataframe thead th {\n",
       "        text-align: right;\n",
       "    }\n",
       "</style>\n",
       "<table border=\"1\" class=\"dataframe\">\n",
       "  <thead>\n",
       "    <tr style=\"text-align: right;\">\n",
       "      <th></th>\n",
       "      <th>doi</th>\n",
       "      <th>title</th>\n",
       "      <th>publication year</th>\n",
       "      <th>publication venue</th>\n",
       "      <th>type</th>\n",
       "      <th>issue</th>\n",
       "      <th>volume</th>\n",
       "    </tr>\n",
       "  </thead>\n",
       "  <tbody>\n",
       "    <tr>\n",
       "      <th>731</th>\n",
       "      <td>10.1007/bf00809059</td>\n",
       "      <td>Transformation toughening</td>\n",
       "      <td>1982</td>\n",
       "      <td>Journal of Materials Science</td>\n",
       "      <td>journal article</td>\n",
       "      <td>1</td>\n",
       "      <td>17</td>\n",
       "    </tr>\n",
       "    <tr>\n",
       "      <th>732</th>\n",
       "      <td>10.1007/bf00809057</td>\n",
       "      <td>Transformation toughening</td>\n",
       "      <td>1982</td>\n",
       "      <td>Journal of Materials Science</td>\n",
       "      <td>journal article</td>\n",
       "      <td>1</td>\n",
       "      <td>17</td>\n",
       "    </tr>\n",
       "  </tbody>\n",
       "</table>\n",
       "</div>"
      ],
      "text/plain": [
       "                    doi                      title  publication year  \\\n",
       "731  10.1007/bf00809059  Transformation toughening              1982   \n",
       "732  10.1007/bf00809057  Transformation toughening              1982   \n",
       "\n",
       "                publication venue             type issue volume  \n",
       "731  Journal of Materials Science  journal article     1     17  \n",
       "732  Journal of Materials Science  journal article     1     17  "
      ]
     },
     "execution_count": 191,
     "metadata": {},
     "output_type": "execute_result"
    }
   ],
   "source": [
    "publications.query('title == \"Transformation toughening\"')"
   ]
  },
  {
   "cell_type": "markdown",
   "id": "7ca60f14-0a87-4360-b19c-ca887dd71b85",
   "metadata": {},
   "source": [
    "Indeed, these two publications may seem the same one, since they share all the other data, except the DOI. Thus, one possibility would be to use the DOI resolver (https://doi.org) to see to which kind of entities these DOIs (i.e. https://doi.org/10.1007/bf00809059 and https://doi.org/10.1007/bf00809057) actually refer to. Once seen them, are they the same entity? Hint: look at the subtitle and the number of the pages...\n",
    "\n",
    "In addition to the statistics provided in the previous data frame, other statistics can be calculated using the data in the columns of the data frame. For instance, another important statistics for numeric values is the [median](https://en.wikipedia.org/wiki/Median):"
   ]
  },
  {
   "cell_type": "code",
   "execution_count": 221,
   "id": "3f829bc1-c156-47c4-ba74-0c7f83e3cddc",
   "metadata": {},
   "outputs": [
    {
     "name": "stdout",
     "output_type": "stream",
     "text": [
      "-- Median value of the publication years in the data\n",
      "2003.0\n"
     ]
    }
   ],
   "source": [
    "print(\"-- Median value of the publication years in the data\")\n",
    "print(publications[\"publication year\"].median())"
   ]
  },
  {
   "cell_type": "markdown",
   "id": "7fd95ca0-8b26-4096-b066-eb72fa690fa8",
   "metadata": {},
   "source": [
    "The `Series` [method `median`](https://pandas.pydata.org/docs/reference/api/pandas.Series.median.html)  calculates such an important statistics that enables one to identify the average value of a series of numbers partially-limitating the effect of the [outliers](https://en.wikipedia.org/wiki/Outlier) in the series. Indeed, the average calculated in the data frame above is lower than the median, since it is affected by some very low publication dates (e.g. 1886), which do not affect at all the median instead. \n",
    "\n",
    "Another useful operation one can run on series is provided by the [method `unique`](https://pandas.pydata.org/docs/reference/api/pandas.Series.unique.html). This method is useful to identify what are all the unique values in a series that, in principle, can contain several items. For instance, that can be used to identify the categories in the column `type`:"
   ]
  },
  {
   "cell_type": "code",
   "execution_count": 222,
   "id": "4b585e3b-7fac-4a66-926a-cfd9fa5d01df",
   "metadata": {},
   "outputs": [
    {
     "name": "stdout",
     "output_type": "stream",
     "text": [
      "-- Categories describing types of publications\n"
     ]
    },
    {
     "data": {
      "text/plain": [
       "array(['journal article', 'book', 'proceedings article', 'book chapter',\n",
       "       'monograph'], dtype=object)"
      ]
     },
     "execution_count": 222,
     "metadata": {},
     "output_type": "execute_result"
    }
   ],
   "source": [
    "print(\"-- Categories describing types of publications\")\n",
    "publications[\"type\"].unique()"
   ]
  },
  {
   "cell_type": "markdown",
   "id": "59ec62d6-7ad3-4038-b21f-aa088476a6fa",
   "metadata": {},
   "source": [
    "## Drawing data\n",
    "\n",
    "In addition to generate data frames with descriptive statistics, Pandas makes available also methods to [draw data](https://pandas.pydata.org/docs/user_guide/visualization.html#visualization) in simple graphs, such as line charts, bar charts, etc. For instance, taking as example the types of publications described in the previous code, we could be interested in understanding how many publications of each type are included in the data. For doing so, we first have to retrieve such number for each type using the `Series` [method `value_counts`](https://pandas.pydata.org/docs/reference/api/pandas.Series.value_counts.html), shown as follows:"
   ]
  },
  {
   "cell_type": "code",
   "execution_count": 223,
   "id": "ccd5ee61-d2d9-43a3-a21f-adfa9c9a3336",
   "metadata": {},
   "outputs": [
    {
     "data": {
      "text/plain": [
       "journal article        970\n",
       "book                    11\n",
       "book chapter            11\n",
       "proceedings article      2\n",
       "monograph                1\n",
       "Name: type, dtype: int64"
      ]
     },
     "execution_count": 223,
     "metadata": {},
     "output_type": "execute_result"
    }
   ],
   "source": [
    "type_count = publications[\"type\"].value_counts()\n",
    "type_count"
   ]
  },
  {
   "cell_type": "markdown",
   "id": "558f1f02-fc88-48b0-931e-24a570e31a61",
   "metadata": {},
   "source": [
    "The method `value_counts` applied to a series of strings returns the number of times each string appears in the series, where the unique strings of the series become the index of the new series. This kinds of series can be plotted as a bar chart easily, where the index labels are the categories shown in the x-axis, while the number of times each string is represented in the original series is the value highlighte in the y-axis. This diagram is plotted using the [method `plot`](https://pandas.pydata.org/docs/reference/api/pandas.DataFrame.plot.html), specifying the optional input named parameter `kind` set to `\"bar\"`, as shown as follows:"
   ]
  },
  {
   "cell_type": "code",
   "execution_count": 214,
   "id": "3f25480c-498e-4659-8e04-c64d3feff1cb",
   "metadata": {},
   "outputs": [
    {
     "data": {
      "text/plain": [
       "<AxesSubplot:>"
      ]
     },
     "execution_count": 214,
     "metadata": {},
     "output_type": "execute_result"
    },
    {
     "data": {
      "image/png": "[encoded data removed]",
      "text/plain": [
       "<Figure size 432x288 with 1 Axes>"
      ]
     },
     "metadata": {
      "needs_background": "light"
     },
     "output_type": "display_data"
    }
   ],
   "source": [
    "type_count.plot(kind=\"bar\")"
   ]
  },
  {
   "cell_type": "markdown",
   "id": "2d9a8893-b9d1-4ec3-bdda-a7734f631f73",
   "metadata": {},
   "source": [
    "We can use a similar approach to understand, for instance, what are the top ten venues considering all the publication in the dataset. In this case, we use again the method `value_counts` and then we select the first 10 rows, as shown as follows:"
   ]
  },
  {
   "cell_type": "code",
   "execution_count": 224,
   "id": "7afa9b02-c4a4-45af-be9b-1335e32ef47d",
   "metadata": {},
   "outputs": [
    {
     "data": {
      "text/plain": [
       "Materials Science Forum                                           169\n",
       "Key Engineering Materials                                          98\n",
       "International Journal of Mathematics and Mathematical Sciences     34\n",
       "Mediators of Inflammation                                          15\n",
       "Journal of Applied Mathematics and Stochastic Analysis             14\n",
       "Journal of the American Ceramic Society                            14\n",
       "Applied Physics Letters                                            14\n",
       "Mathematical Problems in Engineering                               10\n",
       "Physical Review Letters                                            10\n",
       "Evidence-Based Complementary and Alternative Medicine               9\n",
       "Name: publication venue, dtype: int64"
      ]
     },
     "execution_count": 224,
     "metadata": {},
     "output_type": "execute_result"
    }
   ],
   "source": [
    "best_venues = publications[\"publication venue\"].value_counts()[:10]\n",
    "best_venues"
   ]
  },
  {
   "cell_type": "markdown",
   "id": "5bc77837-eee2-46f4-b498-09cb3baec40a",
   "metadata": {},
   "source": [
    "Again, as before, we plot it as a *horizontal* bar chart using the same command shown in the previous example, but setting the parameter `kind` to `\"barh\"`:"
   ]
  },
  {
   "cell_type": "code",
   "execution_count": 225,
   "id": "d0d67629-dc95-40cc-9fd4-c285a5729f77",
   "metadata": {},
   "outputs": [
    {
     "data": {
      "text/plain": [
       "<AxesSubplot:>"
      ]
     },
     "execution_count": 225,
     "metadata": {},
     "output_type": "execute_result"
    },
    {
     "data": {
      "image/png": "[encoded data removed]",
      "text/plain": [
       "<Figure size 432x288 with 1 Axes>"
      ]
     },
     "metadata": {
      "needs_background": "light"
     },
     "output_type": "display_data"
    }
   ],
   "source": [
    "best_venues.plot(kind=\"barh\")"
   ]
  },
  {
   "cell_type": "markdown",
   "id": "31e19476-0654-4d23-b51b-445b728f921c",
   "metadata": {},
   "source": [
    "We can use a different plot when we deal with *time* series, i.e. series of data that are organised temporally (for instance, year by year). For instance, we could be interested in understading how many publications have been published in each year. To retrieve this information, we can use again the method `value_counts`, but this time applied to the column `publication year`, as shown as follows:"
   ]
  },
  {
   "cell_type": "code",
   "execution_count": 231,
   "id": "7b75cb59-07e2-4e2a-98e5-fe89a87e42aa",
   "metadata": {},
   "outputs": [
    {
     "data": {
      "text/plain": [
       "2006    183\n",
       "2007     92\n",
       "2005     65\n",
       "2008     56\n",
       "2003     51\n",
       "       ... \n",
       "1953      1\n",
       "1954      1\n",
       "1955      1\n",
       "1956      1\n",
       "2012      1\n",
       "Name: publication year, Length: 85, dtype: int64"
      ]
     },
     "execution_count": 231,
     "metadata": {},
     "output_type": "execute_result"
    }
   ],
   "source": [
    "publications_per_year = publications[\"publication year\"].value_counts()\n",
    "publications_per_year"
   ]
  },
  {
   "cell_type": "markdown",
   "id": "67e88e1c-24ff-46d5-bc80-c6825ab07444",
   "metadata": {},
   "source": [
    "As you can see, the series contains the number of publications year by year, sorted in descending order, from the year with most publications to that with less publications. In order to draw all these data in the correct temporal order, we need first to sort them in ascending order using the index labels (i.e. the years of publication). For doing so, we can use the `Series` [method `sort_index`](https://pandas.pydata.org/docs/reference/api/pandas.Series.sort_index.html) to generate a new series ordered as mentioned:"
   ]
  },
  {
   "cell_type": "code",
   "execution_count": 232,
   "id": "11a96a76-8d10-48c6-812d-11388cb8ad95",
   "metadata": {},
   "outputs": [
    {
     "data": {
      "text/plain": [
       "1886     1\n",
       "1893     1\n",
       "1894     2\n",
       "1895     1\n",
       "1902     1\n",
       "        ..\n",
       "2007    92\n",
       "2008    56\n",
       "2009    24\n",
       "2011     7\n",
       "2012     1\n",
       "Name: publication year, Length: 85, dtype: int64"
      ]
     },
     "execution_count": 232,
     "metadata": {},
     "output_type": "execute_result"
    }
   ],
   "source": [
    "publications_per_year_sorted = publications_per_year.sort_index()\n",
    "publications_per_year_sorted"
   ]
  },
  {
   "cell_type": "markdown",
   "id": "489eaafb-2f95-4609-9bc9-4cc2d661b940",
   "metadata": {},
   "source": [
    "Then, finally, we can plot this new series using a simple line diagram (the default for the `plot` method) as shown as follows:"
   ]
  },
  {
   "cell_type": "code",
   "execution_count": 233,
   "id": "0aec7e55-ed3e-452a-8e65-beb9bc737558",
   "metadata": {},
   "outputs": [
    {
     "data": {
      "text/plain": [
       "<AxesSubplot:>"
      ]
     },
     "execution_count": 233,
     "metadata": {},
     "output_type": "execute_result"
    },
    {
     "data": {
      "image/png": "[encoded data removed]",
      "text/plain": [
       "<Figure size 432x288 with 1 Axes>"
      ]
     },
     "metadata": {
      "needs_background": "light"
     },
     "output_type": "display_data"
    }
   ],
   "source": [
    "publications_per_year_sorted.plot()"
   ]
  }
 ],
 "metadata": {
  "kernelspec": {
   "display_name": "Python 3",
   "language": "python",
   "name": "python3"
  },
  "language_info": {
   "codemirror_mode": {
    "name": "ipython",
    "version": 3
   },
   "file_extension": ".py",
   "mimetype": "text/x-python",
   "name": "python",
   "nbconvert_exporter": "python",
   "pygments_lexer": "ipython3",
   "version": "3.9.0"
  }
 },
 "nbformat": 4,
 "nbformat_minor": 5
}
