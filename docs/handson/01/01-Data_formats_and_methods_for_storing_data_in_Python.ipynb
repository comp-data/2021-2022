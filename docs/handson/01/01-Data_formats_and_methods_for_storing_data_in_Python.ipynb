{
 "cells": [
  {
   "cell_type": "markdown",
   "id": "democratic-score",
   "metadata": {
    "tags": []
   },
   "source": [
    "# Data formats and methods for storing data in Python\n",
    "\n",
    "In this tutorial, we see two basic formats to deal with data in Python: CSV and JSON."
   ]
  },
  {
   "cell_type": "markdown",
   "id": "simple-albuquerque",
   "metadata": {},
   "source": [
    "## Comma-separated values (CSV)\n",
    "\n",
    "The first and simplest format you can use to store and load data in Python is the [Comma-Separated Values (CSV)](https://en.wikipedia.org/wiki/Comma-separated_values). In practice, each CSV file defines a table of a fixed number of columns where each row represents a (subject) entity and each cell defines the (object) value associated to that entity via the predicate defined by the column label, if specified. While it is not mandatory to specify column labels, it makes a CSV file more understandable to humans and machines. These labels can be specified using the first row of a CSV, defining an header of the table represented. An example of a table represented with a CSV is shown as follows."
   ]
  },
  {
   "cell_type": "markdown",
   "id": "bronze-offense",
   "metadata": {},
   "source": [
    "|   | column<sub>1</sub> | column<sub>2</sub>  | ... | column<sub>n</sub> |\n",
    "|---|---|---|---|---|\n",
    "| <span style=\"color: red\">*entity<sub>1</sub>*</span> | value<sub>1</sub> | value<sub>1</sub> | ... | value<sub>n</sub> |\n",
    "| <span style=\"color: red\">*entity<sub>2</sub>*</span> | value<sub>1</sub> | value<sub>1</sub> | ... | value<sub>n</sub> |\n",
    "| <span style=\"color: red\">...</span> | ... | ... | ... | ... |\n",
    "| <span style=\"color: red\">*entity<sub>m</sub>*</span> | value<sub>1</sub> | value<sub>1</sub> | ... | value<sub>n</sub> |"
   ]
  },
  {
   "cell_type": "markdown",
   "id": "worst-ancient",
   "metadata": {},
   "source": [
    "Each cell in a row is defined by splitting the cell values using a comma (`,`). In case the comma is part of the value of a cell, it is possible to escape such a comma by putting the cell value between quotes (`\"`). Finally, in case a cell value is defined using quotes and one or more quote is included in cell value, these must be escaped by using double quotes (`\"\"`). The following table and the related CSV source show how to define in CSV cell values when these situations happen."
   ]
  },
  {
   "cell_type": "markdown",
   "id": "ready-weight",
   "metadata": {},
   "source": [
    "| column name | another name, with a comma |\n",
    "|---|---|\n",
    "| a value | a value, with a comma |\n",
    "| a quoted \"value\" | a quoted \"value\", with a comma |\n",
    "\n",
    "CSV [source](01-example.csv):\n",
    "\n",
    "```\n",
    "column name,\"another name, with a comma\"\n",
    "a value,\"a value, with a comma\"\n",
    "a quoted \"value\",\"a quoted \"\"value\"\", with a comma\"\n",
    "```"
   ]
  },
  {
   "cell_type": "markdown",
   "id": "expressed-craft",
   "metadata": {},
   "source": [
    "Python has a dedicated library to handle this format called [*csv*](https://docs.python.org/3/library/csv.html). In order to understand how to use it, we can start analysing two very simple CSV files, one containing [publications and some of their basic metadata](01-publications.csv) and another with [information about the venues](01-venues.csv) where such publications have been published. To open it as a source file, you can right-click on it in the left panel and select *Open With -> Editor*."
   ]
  },
  {
   "cell_type": "markdown",
   "id": "facial-conviction",
   "metadata": {},
   "source": [
    "### Opening a CSV file\n",
    "\n",
    "In order to understand how these files are represented in Python, let us try to load one of it into a Python object using the funcion *reader* included in the module *csv* mentioned above. For doing that, it is necessary to obtain a [file object](https://docs.python.org/3/glossary.html#term-file-object) of a particular file using the built-in [function `open` used with a `with` statement](https://docs.python.org/3/tutorial/inputoutput.html#reading-and-writing-files) as shown in the following excerpt:"
   ]
  },
  {
   "cell_type": "code",
   "execution_count": null,
   "id": "ready-carrier",
   "metadata": {},
   "outputs": [],
   "source": [
    "from csv import reader\n",
    "\n",
    "with open(\"01-publications.csv\", \"r\", encoding=\"utf-8\") as f:\n",
    "    publications = reader(f)"
   ]
  },
  {
   "cell_type": "markdown",
   "id": "quick-fifty",
   "metadata": {},
   "source": [
    "The function `open` takes in input several parameters and returns a file object, i.e. a Python object used to interact with a file stored in the file system. However, it is highly suggested to use at least the three specified above, that are:\n",
    "\n",
    "1. the first positional parameter must contain the path of the file one wants to open;\n",
    "2. the second positional parameter is the mode used to open the file (`\"r\"` stands for read, `\"w\"` for write, etc.);\n",
    "3. the named parameter `encoding` specifying the encoding to open the file (`\"utf-8\"` must be used, if you do not want to have issues).\n",
    "\n",
    "In addition, all file objects one wants to create in Python to process files stored in the file system must be also closed once all the operations on that file are concluded. The keyword `with` used with the function `open` allows one to handle the opening and closing of the file object automatically. In practice, once all the operation within the `with` block are executed, the related file object will be closed. Finally, the file object openned using the function `open` will be assigned to the variable that follows the keyword `as`, i.e. `f` in the example above. It is worth mentioning that the example just shown introduces how to open, in reading mode, any file in the file system, not only CSV files."
   ]
  },
  {
   "cell_type": "markdown",
   "id": "noticed-tenant",
   "metadata": {},
   "source": [
    "### CSV reader\n",
    "\n",
    "Once our file object has been define, we can read its content interpreting it as a CSV document using the [constructor `reader`](https://docs.python.org/3/library/csv.html#csv.reader) included in the package `csv`, which is imported by means of the usual command:\n",
    "\n",
    "```\n",
    "from csv import reader\n",
    "```\n",
    "\n",
    "The constructor `reader` takes in input a file object and returns an object of type (i.e. class) `_csv.reader`, that enables one to iterate over the CSV document row by row. To check the actual type, you can use the built-in function `type` passing the object as input, and then printing it on screen using either the function `print` or, when we want to print a complex structure, the [function `pprint`](https://docs.python.org/3/library/pprint.html#pprint.pprint) from the package `pprint` (a.k.a. *pretty print*), as shown running the following code:"
   ]
  },
  {
   "cell_type": "code",
   "execution_count": 2,
   "id": "otherwise-armor",
   "metadata": {},
   "outputs": [
    {
     "name": "stdout",
     "output_type": "stream",
     "text": [
      "<class '_csv.reader'>\n"
     ]
    }
   ],
   "source": [
    "from pprint import pprint\n",
    "\n",
    "pprint(type(publications))"
   ]
  },
  {
   "cell_type": "markdown",
   "id": "limiting-father",
   "metadata": {},
   "source": [
    "An object of the class `_csv.reader` behaves like a list, and can be iterated using a for earch loop, as shown as follows:"
   ]
  },
  {
   "cell_type": "code",
   "execution_count": 3,
   "id": "parliamentary-importance",
   "metadata": {},
   "outputs": [
    {
     "name": "stdout",
     "output_type": "stream",
     "text": [
      "['doi',\n",
      " 'title',\n",
      " 'publication year',\n",
      " 'publication venue',\n",
      " 'type',\n",
      " 'issue',\n",
      " 'volume']\n",
      "['10.1002/cfg.304',\n",
      " 'Development of Computational Tools for the Inference of Protein Interaction '\n",
      " 'Specificity Rules and Functional Annotation Using Structural Information',\n",
      " '2003',\n",
      " '1531-6912',\n",
      " 'journal article',\n",
      " '4',\n",
      " '4']\n",
      "['10.1016/s1367-5931(02)00332-0',\n",
      " 'In vitro selection as a powerful tool for the applied evolution of proteins '\n",
      " 'and peptides',\n",
      " '2002',\n",
      " '1367-5931',\n",
      " 'journal article',\n",
      " '3',\n",
      " '6']\n",
      "['10.1002/9780470291092.ch20',\n",
      " 'Mechanisms of Toughening in Ceramic Matrix Composites',\n",
      " '1981',\n",
      " '9780470291092',\n",
      " 'book chapter',\n",
      " '',\n",
      " '']\n"
     ]
    }
   ],
   "source": [
    "with open(\"01-publications.csv\", \"r\", encoding=\"utf-8\") as f:\n",
    "    publications = reader(f)\n",
    "\n",
    "    for row in publications:\n",
    "        pprint(row)"
   ]
  },
  {
   "cell_type": "markdown",
   "id": "metropolitan-automation",
   "metadata": {},
   "source": [
    "In case you want to skip the header of the table if present, starting to look at the values directly, you need to use the built-in [function `next`](https://docs.python.org/3/library/functions.html#next) that takes in input any [iterator-based object](https://docs.python.org/3/glossary.html#term-iterator), such as our CSV reader, and skips to the next line:"
   ]
  },
  {
   "cell_type": "code",
   "execution_count": 4,
   "id": "positive-reproduction",
   "metadata": {},
   "outputs": [
    {
     "name": "stdout",
     "output_type": "stream",
     "text": [
      "['10.1002/cfg.304',\n",
      " 'Development of Computational Tools for the Inference of Protein Interaction '\n",
      " 'Specificity Rules and Functional Annotation Using Structural Information',\n",
      " '2003',\n",
      " '1531-6912',\n",
      " 'journal article',\n",
      " '4',\n",
      " '4']\n",
      "['10.1016/s1367-5931(02)00332-0',\n",
      " 'In vitro selection as a powerful tool for the applied evolution of proteins '\n",
      " 'and peptides',\n",
      " '2002',\n",
      " '1367-5931',\n",
      " 'journal article',\n",
      " '3',\n",
      " '6']\n",
      "['10.1002/9780470291092.ch20',\n",
      " 'Mechanisms of Toughening in Ceramic Matrix Composites',\n",
      " '1981',\n",
      " '9780470291092',\n",
      " 'book chapter',\n",
      " '',\n",
      " '']\n"
     ]
    }
   ],
   "source": [
    "with open(\"01-publications.csv\", \"r\", encoding=\"utf-8\") as f:\n",
    "    publications = reader(f)\n",
    "    next(publications)  # it skip the first row of the CSV table\n",
    "\n",
    "    for row in publications:\n",
    "        pprint(row)  # it prints all the rows except the header"
   ]
  },
  {
   "cell_type": "markdown",
   "id": "frank-treatment",
   "metadata": {},
   "source": [
    "It is worth mentioning that, once you have iterated it once, the CSV reader is *consumed* and does not allow you to iterate over the same object twice. For instance, see the following execution where the same reader is iterated twice:"
   ]
  },
  {
   "cell_type": "code",
   "execution_count": 5,
   "id": "surrounded-tattoo",
   "metadata": {},
   "outputs": [
    {
     "name": "stdout",
     "output_type": "stream",
     "text": [
      "-- First iteration\n",
      "['doi',\n",
      " 'title',\n",
      " 'publication year',\n",
      " 'publication venue',\n",
      " 'type',\n",
      " 'issue',\n",
      " 'volume']\n",
      "['10.1002/cfg.304',\n",
      " 'Development of Computational Tools for the Inference of Protein Interaction '\n",
      " 'Specificity Rules and Functional Annotation Using Structural Information',\n",
      " '2003',\n",
      " '1531-6912',\n",
      " 'journal article',\n",
      " '4',\n",
      " '4']\n",
      "['10.1016/s1367-5931(02)00332-0',\n",
      " 'In vitro selection as a powerful tool for the applied evolution of proteins '\n",
      " 'and peptides',\n",
      " '2002',\n",
      " '1367-5931',\n",
      " 'journal article',\n",
      " '3',\n",
      " '6']\n",
      "['10.1002/9780470291092.ch20',\n",
      " 'Mechanisms of Toughening in Ceramic Matrix Composites',\n",
      " '1981',\n",
      " '9780470291092',\n",
      " 'book chapter',\n",
      " '',\n",
      " '']\n",
      "\n",
      "-- Second iteration\n"
     ]
    }
   ],
   "source": [
    "with open(\"01-publications.csv\", \"r\", encoding=\"utf-8\") as f:\n",
    "    publications = reader(f)\n",
    "\n",
    "    print(\"-- First iteration\")\n",
    "    for row in publications:\n",
    "        pprint(row)  # all the rows will be printed, one by one\n",
    "\n",
    "    print(\"\\n-- Second iteration\")\n",
    "    for row in publications:\n",
    "        pprint(row)  # no row will be printed"
   ]
  },
  {
   "cell_type": "markdown",
   "id": "floral-snowboard",
   "metadata": {},
   "source": [
    "### Casting CSV reader into a list\n",
    "\n",
    "If you want to iterate over the same rows more than one time, one possibility would be to convert your reader into a list object, by using the `list` constructor:"
   ]
  },
  {
   "cell_type": "code",
   "execution_count": 6,
   "id": "heated-sustainability",
   "metadata": {},
   "outputs": [],
   "source": [
    "with open(\"01-publications.csv\", \"r\", encoding=\"utf-8\") as f:\n",
    "    publications = reader(f)\n",
    "    publications_list = list(publications)"
   ]
  },
  {
   "cell_type": "markdown",
   "id": "running-veteran",
   "metadata": {},
   "source": [
    "From now on, even if the file object is closed after executing all the instructions within the `with` block, you can always access (and iterate) the rows defined in the original CSV document since you have stored them within a Python list, as shown in the following excerpt:"
   ]
  },
  {
   "cell_type": "code",
   "execution_count": 7,
   "id": "preceding-denmark",
   "metadata": {},
   "outputs": [
    {
     "name": "stdout",
     "output_type": "stream",
     "text": [
      "-- First execution\n",
      "['doi',\n",
      " 'title',\n",
      " 'publication year',\n",
      " 'publication venue',\n",
      " 'type',\n",
      " 'issue',\n",
      " 'volume']\n",
      "['10.1002/cfg.304',\n",
      " 'Development of Computational Tools for the Inference of Protein Interaction '\n",
      " 'Specificity Rules and Functional Annotation Using Structural Information',\n",
      " '2003',\n",
      " '1531-6912',\n",
      " 'journal article',\n",
      " '4',\n",
      " '4']\n",
      "['10.1016/s1367-5931(02)00332-0',\n",
      " 'In vitro selection as a powerful tool for the applied evolution of proteins '\n",
      " 'and peptides',\n",
      " '2002',\n",
      " '1367-5931',\n",
      " 'journal article',\n",
      " '3',\n",
      " '6']\n",
      "['10.1002/9780470291092.ch20',\n",
      " 'Mechanisms of Toughening in Ceramic Matrix Composites',\n",
      " '1981',\n",
      " '9780470291092',\n",
      " 'book chapter',\n",
      " '',\n",
      " '']\n",
      "\n",
      "-- Second execution\n",
      "['doi',\n",
      " 'title',\n",
      " 'publication year',\n",
      " 'publication venue',\n",
      " 'type',\n",
      " 'issue',\n",
      " 'volume']\n",
      "['10.1002/cfg.304',\n",
      " 'Development of Computational Tools for the Inference of Protein Interaction '\n",
      " 'Specificity Rules and Functional Annotation Using Structural Information',\n",
      " '2003',\n",
      " '1531-6912',\n",
      " 'journal article',\n",
      " '4',\n",
      " '4']\n",
      "['10.1016/s1367-5931(02)00332-0',\n",
      " 'In vitro selection as a powerful tool for the applied evolution of proteins '\n",
      " 'and peptides',\n",
      " '2002',\n",
      " '1367-5931',\n",
      " 'journal article',\n",
      " '3',\n",
      " '6']\n",
      "['10.1002/9780470291092.ch20',\n",
      " 'Mechanisms of Toughening in Ceramic Matrix Composites',\n",
      " '1981',\n",
      " '9780470291092',\n",
      " 'book chapter',\n",
      " '',\n",
      " '']\n"
     ]
    }
   ],
   "source": [
    "print(\"-- First execution\")\n",
    "for row in publications_list:\n",
    "    pprint(row)\n",
    "    \n",
    "print(\"\\n-- Second execution\")\n",
    "for row in publications_list:\n",
    "    pprint(row)"
   ]
  },
  {
   "cell_type": "markdown",
   "id": "fatal-remark",
   "metadata": {},
   "source": [
    "### CSV table as list of lists\n",
    "\n",
    "As you can see from the executing the `print` function in the examples above, each row of the CSV table is represented, in Python, as a list of strings. As such, the overall table, after converted it as a list using the related constructor, is defined as a list of list of strings, following the pattern below (using as example the table introduced at the beginning of this tutorial):"
   ]
  },
  {
   "cell_type": "code",
   "execution_count": 8,
   "id": "comparable-onion",
   "metadata": {},
   "outputs": [
    {
     "name": "stdout",
     "output_type": "stream",
     "text": [
      "[['column name', 'another name, with a comma'],\n",
      " ['a value', 'a value, with a comma'],\n",
      " ['a quoted \"value\"', 'a quoted \"value\", with a comma']]\n"
     ]
    }
   ],
   "source": [
    "my_list = [\n",
    "    [ \"column name\", \"another name, with a comma\" ],              # row 1\n",
    "    [ \"a value\", \"a value, with a comma\" ],                       # row 2\n",
    "    [ \"a quoted \\\"value\\\"\", \"a quoted \\\"value\\\", with a comma\" ]  # row 3\n",
    "]\n",
    "pprint(my_list)"
   ]
  },
  {
   "cell_type": "markdown",
   "id": "infinite-university",
   "metadata": {},
   "source": [
    "As you can see, since strings in Python can be created enclosing their characters between double quotes (i.e. `\"`), the only character to escape in the string is the double quote character itself with a slash (i.e. `\\\"`). Alternatively, you could use the the single quote character (i.e. `'`) for creating strings, avoiding to escape double quote characters, if any:"
   ]
  },
  {
   "cell_type": "code",
   "execution_count": 9,
   "id": "persistent-array",
   "metadata": {},
   "outputs": [
    {
     "name": "stdout",
     "output_type": "stream",
     "text": [
      "[['column name', 'another name, with a comma'],\n",
      " ['a value', 'a value, with a comma'],\n",
      " ['a quoted \"value\"', 'a quoted \"value\", with a comma']]\n"
     ]
    }
   ],
   "source": [
    "my_list = [\n",
    "    [ 'column name', 'another name, with a comma' ],          # row 1\n",
    "    [ 'a value', 'a value, with a comma' ],                   # row 2\n",
    "    [ 'a quoted \"value\"', 'a quoted \"value\", with a comma' ]  # row 3\n",
    "]\n",
    "pprint(my_list)"
   ]
  },
  {
   "cell_type": "markdown",
   "id": "growing-ultimate",
   "metadata": {},
   "source": [
    "Since a table is a list of list, it can be accessed and modified using the common methods available for the class list, as shown in the following excerpt:"
   ]
  },
  {
   "cell_type": "code",
   "execution_count": 10,
   "id": "favorite-trash",
   "metadata": {},
   "outputs": [
    {
     "name": "stdout",
     "output_type": "stream",
     "text": [
      "-- Second row\n",
      "['10.1002/cfg.304',\n",
      " 'Development of Computational Tools for the Inference of Protein Interaction '\n",
      " 'Specificity Rules and Functional Annotation Using Structural Information',\n",
      " '2003',\n",
      " '1531-6912',\n",
      " 'journal article',\n",
      " '4',\n",
      " '4']\n",
      "\n",
      "-- Third item in second row\n",
      "'2003'\n",
      "\n",
      "-- Updated list\n",
      "[['doi',\n",
      "  'title',\n",
      "  'publication year',\n",
      "  'publication venue',\n",
      "  'type',\n",
      "  'issue',\n",
      "  'volume'],\n",
      " ['10.1002/cfg.304',\n",
      "  'Development of Computational Tools for the Inference of Protein Interaction '\n",
      "  'Specificity Rules and Functional Annotation Using Structural Information',\n",
      "  '2003',\n",
      "  '1531-6912',\n",
      "  'journal article',\n",
      "  '4',\n",
      "  '4'],\n",
      " ['10.1016/s1367-5931(02)00332-0',\n",
      "  'In vitro selection as a powerful tool for the applied evolution of proteins '\n",
      "  'and peptides',\n",
      "  '2002',\n",
      "  '1367-5931',\n",
      "  'journal article',\n",
      "  '3',\n",
      "  '6'],\n",
      " ['10.1002/9780470291092.ch20',\n",
      "  'Mechanisms of Toughening in Ceramic Matrix Composites',\n",
      "  '1981',\n",
      "  '9780470291092',\n",
      "  'book chapter',\n",
      "  '',\n",
      "  ''],\n",
      " ['10.1080/10273660500441324',\n",
      "  'Development of a Species-Specific Model of Cerebral Hemodynamics',\n",
      "  '2005',\n",
      "  '1027-3662',\n",
      "  'journal article',\n",
      "  '3',\n",
      "  '6']]\n"
     ]
    }
   ],
   "source": [
    "# retrieving the second row in the table\n",
    "second_row = publications_list[1]  # remember that item indexes starts from 0\n",
    "print(\"-- Second row\")\n",
    "pprint(second_row)\n",
    "\n",
    "# retrieving the third item in the second row\n",
    "third_item_second_row = second_row[2]\n",
    "print(\"\\n-- Third item in second row\")\n",
    "pprint(third_item_second_row)\n",
    "\n",
    "# appending a new row at the end of the list\n",
    "publications_list.append([\n",
    "    \"10.1080/10273660500441324\", \n",
    "    \"Development of a Species-Specific Model of Cerebral Hemodynamics\",\n",
    "    \"2005\",\n",
    "    \"1027-3662\",\n",
    "    \"journal article\",\n",
    "    \"3\",\n",
    "    \"6\"\n",
    "])\n",
    "print(\"\\n-- Updated list\")\n",
    "pprint(publications_list)"
   ]
  },
  {
   "cell_type": "markdown",
   "id": "governmental-wednesday",
   "metadata": {},
   "source": [
    "### CSV writer\n",
    "\n",
    "Once created or modified a table defined through a list of lists in Python, it can be necessary to store it into a CSV file. To do so, we can use the [constructor `writer`](https://docs.python.org/3/library/csv.html#csv.writer) included in the package `csv`, that must be imported. As we did for loading the content of a CSV file in Python, we use again the `open` function within a `with` statement, but the file path of the first parameter indicates the file where to store the table and we specify `\"w\"` as the mode to interact with the file to create a new object file, as shown as follows:"
   ]
  },
  {
   "cell_type": "code",
   "execution_count": 11,
   "id": "legitimate-democrat",
   "metadata": {},
   "outputs": [],
   "source": [
    "from csv import writer\n",
    "\n",
    "with open(\"01-publications-modified.csv\", \"w\", encoding=\"utf-8\") as f:\n",
    "    publications_modified = writer(f)\n",
    "    publications_modified.writerows(publications_list)  # it writes all the rows in the list of lists"
   ]
  },
  {
   "cell_type": "markdown",
   "id": "chicken-value",
   "metadata": {},
   "source": [
    "As shown in the code above, the constructor `writer` takes in input again a file object and returns an object having class `_csv.writer`. This class includes some methods to write new rows in the file pointed by the file object. In particular, the [method `writerows`](https://docs.python.org/3/library/csv.html#csv.csvwriter.writerows) can be used to write the table defined as a list of lists (of strings) into the file."
   ]
  },
  {
   "cell_type": "markdown",
   "id": "laden-thing",
   "metadata": {},
   "source": [
    "### DictReader and DictWriter\n",
    "\n",
    "In the previous section, we have seen how to load and store in Python a CSV table defined as a list of lists. There is, though, another approach that can be used to load and store CSV files using Python that represents the CSV tables as list of *dictionaries*. In this case, each key in the dictionary is a label of one of the columns of the table, that must be specified. The [class `DictReader`](https://docs.python.org/3/library/csv.html#csv.DictReader) (that must be imported as usual) is used to load a CSV table in this form, as shown in the following excerpt:"
   ]
  },
  {
   "cell_type": "code",
   "execution_count": 12,
   "id": "gorgeous-andorra",
   "metadata": {},
   "outputs": [
    {
     "name": "stdout",
     "output_type": "stream",
     "text": [
      "[{'doi': '10.1002/cfg.304',\n",
      "  'issue': '4',\n",
      "  'publication venue': '1531-6912',\n",
      "  'publication year': '2003',\n",
      "  'title': 'Development of Computational Tools for the Inference of Protein '\n",
      "           'Interaction Specificity Rules and Functional Annotation Using '\n",
      "           'Structural Information',\n",
      "  'type': 'journal article',\n",
      "  'volume': '4'},\n",
      " {'doi': '10.1016/s1367-5931(02)00332-0',\n",
      "  'issue': '3',\n",
      "  'publication venue': '1367-5931',\n",
      "  'publication year': '2002',\n",
      "  'title': 'In vitro selection as a powerful tool for the applied evolution of '\n",
      "           'proteins and peptides',\n",
      "  'type': 'journal article',\n",
      "  'volume': '6'},\n",
      " {'doi': '10.1002/9780470291092.ch20',\n",
      "  'issue': '',\n",
      "  'publication venue': '9780470291092',\n",
      "  'publication year': '1981',\n",
      "  'title': 'Mechanisms of Toughening in Ceramic Matrix Composites',\n",
      "  'type': 'book chapter',\n",
      "  'volume': ''},\n",
      " {'doi': '10.1080/10273660500441324',\n",
      "  'issue': '3',\n",
      "  'publication venue': '1027-3662',\n",
      "  'publication year': '2005',\n",
      "  'title': 'Development of a Species-Specific Model of Cerebral Hemodynamics',\n",
      "  'type': 'journal article',\n",
      "  'volume': '6'}]\n"
     ]
    }
   ],
   "source": [
    "from csv import DictReader\n",
    "\n",
    "with open(\"01-publications-modified.csv\", \"r\", encoding=\"utf-8\") as f:\n",
    "    publications_modified = DictReader(f)  # it is a reader operating as a list of dictionaries\n",
    "    publications_modified_dict = list(publications_modified)  # casting the reader as a list\n",
    "\n",
    "pprint(publications_modified_dict)"
   ]
  },
  {
   "cell_type": "markdown",
   "id": "working-architect",
   "metadata": {},
   "source": [
    "As you can see from the output of the execution of the code above, the list defined by casting the `DictReader` object, created by passing as input the file object as before, contains dictionaries, where each dictionary represent a row. The values of the cells of each row can be accessed by using the related key which is, as anticipated, one of the label of the columns. It is worth mentioning that, in this case, the first row in the CSV table is always interpreted as the header of the table, and the content of the list of ditionaries will start considering only the values specified from the second row. The following code shows some example about how to interact with such a structure for accessing and modifying the table:"
   ]
  },
  {
   "cell_type": "code",
   "execution_count": 13,
   "id": "declared-remark",
   "metadata": {},
   "outputs": [
    {
     "name": "stdout",
     "output_type": "stream",
     "text": [
      "-- Second row\n",
      "{'doi': '10.1016/s1367-5931(02)00332-0',\n",
      " 'issue': '3',\n",
      " 'publication venue': '1367-5931',\n",
      " 'publication year': '2002',\n",
      " 'title': 'In vitro selection as a powerful tool for the applied evolution of '\n",
      "          'proteins and peptides',\n",
      " 'type': 'journal article',\n",
      " 'volume': '6'}\n",
      "\n",
      "-- Value assigned to 'title' in second row\n",
      "In vitro selection as a powerful tool for the applied evolution of proteins and peptides\n",
      "\n",
      "-- Updated list of dictionaries\n",
      "[{'doi': '10.1002/cfg.304',\n",
      "  'issue': '4',\n",
      "  'publication venue': '1531-6912',\n",
      "  'publication year': '2003',\n",
      "  'title': 'Development of Computational Tools for the Inference of Protein '\n",
      "           'Interaction Specificity Rules and Functional Annotation Using '\n",
      "           'Structural Information',\n",
      "  'type': 'journal article',\n",
      "  'volume': '4'},\n",
      " {'doi': '10.1016/s1367-5931(02)00332-0',\n",
      "  'issue': '3',\n",
      "  'publication venue': '1367-5931',\n",
      "  'publication year': '2002',\n",
      "  'title': 'In vitro selection as a powerful tool for the applied evolution of '\n",
      "           'proteins and peptides',\n",
      "  'type': 'journal article',\n",
      "  'volume': '6'},\n",
      " {'doi': '10.1002/9780470291092.ch20',\n",
      "  'issue': '',\n",
      "  'publication venue': '9780470291092',\n",
      "  'publication year': '1981',\n",
      "  'title': 'Mechanisms of Toughening in Ceramic Matrix Composites',\n",
      "  'type': 'book chapter',\n",
      "  'volume': ''},\n",
      " {'doi': '10.1080/10273660500441324',\n",
      "  'issue': '3',\n",
      "  'publication venue': '1027-3662',\n",
      "  'publication year': '2005',\n",
      "  'title': 'Development of a Species-Specific Model of Cerebral Hemodynamics',\n",
      "  'type': 'journal article',\n",
      "  'volume': '6'},\n",
      " {'doi': '10.1080/10273660412331292260',\n",
      "  'issue': '3-4',\n",
      "  'publication venue': '1027-3662',\n",
      "  'publication year': '2003',\n",
      "  'title': 'Amplified Molecular Binding of Prion Protein Homologues in '\n",
      "           'Self-Progressive Injury of Neuronal Membranes and Trafficking '\n",
      "           'Systems',\n",
      "  'type': 'journal article',\n",
      "  'volume': '5'}]\n"
     ]
    }
   ],
   "source": [
    "# retrieving the second row in the table\n",
    "second_row = publications_modified_dict[1]  # remember that item indexes starts from 0\n",
    "print(\"-- Second row\")\n",
    "pprint(second_row)\n",
    "\n",
    "# retrieving the value associated with the column 'title' in the second row\n",
    "title_value_second_row = second_row[\"title\"]\n",
    "print(\"\\n-- Value assigned to 'title' in second row\")\n",
    "print(title_value_second_row)\n",
    "\n",
    "# appending a new row at the end of the list\n",
    "publications_modified_dict.append({\n",
    "    \"doi\": \"10.1080/10273660412331292260\", \n",
    "    \"title\": \"Amplified Molecular Binding of Prion Protein Homologues in Self-Progressive Injury of Neuronal Membranes and Trafficking Systems\",\n",
    "    \"publication year\": \"2003\",\n",
    "    \"publication venue\": \"1027-3662\",\n",
    "    \"type\": \"journal article\",\n",
    "    \"issue\": \"3-4\",\n",
    "    \"volume\": \"5\"\n",
    "})\n",
    "print(\"\\n-- Updated list of dictionaries\")\n",
    "pprint(publications_modified_dict)"
   ]
  },
  {
   "cell_type": "markdown",
   "id": "multiple-australia",
   "metadata": {},
   "source": [
    "As before, once created or modified a table defined through a list of ditionaries, you can store it into a CSV file using the [class `DictWriter`](https://docs.python.org/3/library/csv.html#csv.DictWriter) included in the package `csv` (to be imported, as usual). As we did before, we use again the `open` function within a `with` statement, but the file path of the first parameter indicates the file where to store the table and we specify `\"w\"` as the mode to interact with the file to create a new object file, as shown as follows:"
   ]
  },
  {
   "cell_type": "code",
   "execution_count": 14,
   "id": "realistic-league",
   "metadata": {},
   "outputs": [],
   "source": [
    "from csv import DictWriter\n",
    "\n",
    "with open(\"01-publications-modified-dict.csv\", \"w\", encoding=\"utf-8\") as f:\n",
    "    header = [  # the fields defining the columns must be explicitly specified in the desired order\n",
    "        \"doi\", \"title\", \"publication year\", \"publication venue\", \"type\", \"issue\", \"volume\" ]\n",
    "    \n",
    "    publications_modified = DictWriter(f, header)\n",
    "    publications_modified.writeheader()  # the header must be explicitly created in the output file\n",
    "    publications_modified.writerows(publications_modified_dict)  # it writes all the rows, as usual"
   ]
  },
  {
   "cell_type": "markdown",
   "id": "guided-athletics",
   "metadata": {},
   "source": [
    "However, the class `DictWriter` works in a slightly different way of `_csv.writer`. The main differences are:\n",
    "\n",
    "1. the dictionaries representing the rows do not specify a precise order of the columns to be stored in the CSV file and, as such, it must be explicitly defined;\n",
    "2. there is no header explicitly specified as a row of the table and, as such, it must be provided to the constructor of the class `DictWriter` and then written as first thing in the file.\n",
    "\n",
    "For addressing 1), we simply create a new list (the variable `header` of the code above) with all the column labels in the order they must appear in the final file. Instead, for addressing 2), it is sufficient to specify such a new list as the second parameter of the `DictWriter` constructor, after the file object where to store the table; then, it is necessary to write the header of the table calling the [method `writeheader()`](https://docs.python.org/3/library/csv.html#csv.DictWriter.writeheader) before writing the rows with data into the file using the method `writerows`."
   ]
  },
  {
   "cell_type": "markdown",
   "id": "dried-episode",
   "metadata": {},
   "source": [
    "### CSV dialects\n",
    "\n",
    "In the previous sections we showed how to use the classes and functions in the package `csv` in Python to handle CSV documents. It is worth mentioning, though, that CSV has several [dialects](https://docs.python.org/3/library/csv.html#dialects-and-formatting-parameters) that introduce small changes in the structure of a CSV document. For instance, a well-known dialect is named [Tab-separated Values (TSV)](https://en.wikipedia.org/wiki/Tab-separated_values). Here the idea is that one has to use the [tab character](https://en.wikipedia.org/wiki/Tab_key#Tab_characters) to separate the cells of a row instead of the comma. As such, the comma does not have any specific meaning and can be safely used in cell values withou escaping it with quote characters.\n",
    "\n",
    "For instance, the very first example of CSV table introduced at the beginning of this tutorial can be [represented in TSV](01-example.tsv) as follows:\n",
    "\n",
    "```\n",
    "column name\tanother name, with a comma\n",
    "a value\ta value, with a comma\n",
    "a quoted \"value\"\ta quoted \"value\", with a comma\n",
    "```\n",
    "\n",
    "Of course, the `csv` package allows one to parse also these additional kinds of formats. Indeed, all the constructors of readers and writers objects (i.e. `reader`, `writer`, `DictReader` and `DictWriter`) can have in input the optional named parameter `dialect` which permits the specification of the dialect to consider for either loading or storing the CSV-like table. For instance, the following code stores the table considered in the previous excerpt of code as a TSV file:"
   ]
  },
  {
   "cell_type": "code",
   "execution_count": 15,
   "id": "great-tiffany",
   "metadata": {},
   "outputs": [],
   "source": [
    "with open(\"01-publications-modified-dict.tsv\", \"w\", encoding=\"utf-8\") as f:\n",
    "    header = [  # the fields defining the columns must be explicitly specified in the desired order\n",
    "        \"doi\", \"title\", \"publication year\", \"publication venue\", \"type\", \"issue\", \"volume\" ]\n",
    "    \n",
    "    publications_modified = DictWriter(f, header, dialect=\"excel-tab\")  # adding the specific dialect\n",
    "    publications_modified.writeheader()  # the header must be explicitly created in the output file\n",
    "    publications_modified.writerows(publications_modified_dict)  # it writes all the rows, as usual"
   ]
  },
  {
   "cell_type": "markdown",
   "id": "accepting-chicago",
   "metadata": {},
   "source": [
    "In the code above, we have specified a different output file in the `with` statement (i.e.  the extension now is `.tsv`), and we have explicited asked our `DictWriter` to use the tab-separated dialect introduced by Excel (i.e. `dialect=\"excel-tab\"`) to handle the table as a TSV file."
   ]
  },
  {
   "cell_type": "markdown",
   "id": "impressive-interim",
   "metadata": {},
   "source": [
    "## JavaScript Object Notation (JSON)\n",
    "\n",
    "Another format well-known in the Web, since it is used in several different scenarios that concern data interchange, is the [Javascript Object Notation (JSON)](https://en.wikipedia.org/wiki/JSON). It is a simple textual format to describe objects which follow the key-value approach to specify data, where the key is always a term written within quotes, while the value can assume any of the following types:\n",
    "\n",
    "* numbers (integers and floats), specified straight without an markup (e.g. `3` or `3.14`);\n",
    "* strings, specified between double quotes (e.g. `\"a string\"`);\n",
    "* booleans, the values `true` and `false`;\n",
    "* object, a collection of key-value pairs specified within curly brackets, where each pair is separated with a comma (e.g. `{ \"given name\": \"Silvio\", \"family name\": \"Peroni\" }`);\n",
    "* the null value, i.e. `null`, which mimic the `None` value in Python;\n",
    "* arrays, i.e. lists of values (numbers, strings, booleans, objects, other arrays, etc.) listed between square brackets where each item is separated with a comma (e.g. `[ \"a string\", \"another string\", 4, 4.5, true ]`).\n",
    "\n",
    "Thus, instead of CSV documents in which all the values are actually interpreted as strings, in a JSON document all the values can have different types, as shown above. In addition, each JSON document does not contain necessarily one single object (using curly brackets), but can be defined as an array of objects, and each object can contain (as some of its values) other objects, organising a tree-like structure. An example of such structure is shown in the [exemplar JSON file](01-publications-venues.json) provided in this tutorial, where all the publications and venues specified in the CSV files introduced at the very beginning of the tutorial have been reorganised according to the JSON syntax. As before, to open it as a source file, you can right-click on it in the left panel and select *Open With -> Editor*."
   ]
  },
  {
   "cell_type": "markdown",
   "id": "indonesian-lighting",
   "metadata": {},
   "source": [
    "### Loading a JSON document in Python\n",
    "\n",
    "We need to use specific functions of the [Python package `json`](https://docs.python.org/3/library/json.html) to load a JSON document in Python. In particular, we use the [function `load`](https://docs.python.org/3/library/json.html#json.load) to import in Python a JSON object, that must be imported from the `json` package as usual."
   ]
  },
  {
   "cell_type": "code",
   "execution_count": 16,
   "id": "native-patch",
   "metadata": {},
   "outputs": [],
   "source": [
    "from json import load\n",
    "\n",
    "with open(\"01-publications-venues.json\", \"r\", encoding=\"utf-8\") as f:\n",
    "    json_doc = load(f)"
   ]
  },
  {
   "cell_type": "markdown",
   "id": "legendary-checklist",
   "metadata": {},
   "source": [
    "Differntly from the handling of CSV documents, the `load` function (that still takes in input the file object of the file to load) does not return you a reader, but rather it provides directly the representation of the JSON document into the appropriate Python data structures."
   ]
  },
  {
   "cell_type": "markdown",
   "id": "economic-nation",
   "metadata": {},
   "source": [
    "### It is a list of dictionaries!\n",
    "\n",
    "Considering the [exemplar JSON file](01-publications-venues.json) we have used in the code above, we can print out on screen the type of the object referred by the `json_doc` variable to see what kind of class it is used to represent such a document, as shown in the following excerpt:"
   ]
  },
  {
   "cell_type": "code",
   "execution_count": 17,
   "id": "manufactured-restaurant",
   "metadata": {},
   "outputs": [
    {
     "name": "stdout",
     "output_type": "stream",
     "text": [
      "<class 'list'>\n"
     ]
    }
   ],
   "source": [
    "print(type(json_doc))"
   ]
  },
  {
   "cell_type": "markdown",
   "id": "small-norwegian",
   "metadata": {},
   "source": [
    "As you can see, a list is used to map the JSON array, which is indeed the most natural choice. In particular, the kind of JSON values mentioned above are converted in Python as follows:\n",
    "\n",
    "* numbers (e.g. `3` or `3.14`) and strings (e.g. `\"a string\"`) in JSON are represented with the kinds of values in Python (i.e. `3`, `3.14` and `\"a string\"`);\n",
    "* the `true` and `false` boolean values in JSON are represented in Python using `True` and `False` respectively;\n",
    "* each JSON object is represented by a Python dictionary, having strings specified as keys and the appropriate kind of value assigned to their values;\n",
    "* JSON arrays, as already mentioned, are represented with Python lists.\n",
    "\n",
    "Thus you can act upon the JSON object loaded in Python as you do with the classes used to represent the various JSON values. For instance, in the following code, we show some specific item of the JSON array and add another object to the list, which includes a new publication:"
   ]
  },
  {
   "cell_type": "code",
   "execution_count": 18,
   "id": "aboriginal-combining",
   "metadata": {},
   "outputs": [
    {
     "name": "stdout",
     "output_type": "stream",
     "text": [
      "-- Second item\n",
      "{'doi': '10.1016/s1367-5931(02)00332-0',\n",
      " 'issue': '3',\n",
      " 'publication venue': {'id': ['1367-5931'],\n",
      "                       'name': 'Current Opinion in Chemical Biology',\n",
      "                       'type': 'journal'},\n",
      " 'publication year': 2002,\n",
      " 'title': 'In vitro selection as a powerful tool for the applied evolution of '\n",
      "          'proteins and peptides',\n",
      " 'type': 'journal article',\n",
      " 'volume': '6'}\n",
      "\n",
      "-- Value assigned to 'title' in second item\n",
      "In vitro selection as a powerful tool for the applied evolution of proteins and peptides\n",
      "\n",
      "-- Updated JSON array (a.k.a. list of dictionaries)\n",
      "[{'doi': '10.1002/cfg.304',\n",
      "  'issue': '4',\n",
      "  'publication venue': {'id': ['1531-6912'],\n",
      "                        'name': 'Comparative and Functional Genomics',\n",
      "                        'type': 'journal'},\n",
      "  'publication year': 2003,\n",
      "  'title': 'Development of Computational Tools for the Inference of Protein '\n",
      "           'Interaction Specificity Rules and Functional Annotation Using '\n",
      "           'Structural Information',\n",
      "  'type': 'journal article',\n",
      "  'volume': '4'},\n",
      " {'doi': '10.1016/s1367-5931(02)00332-0',\n",
      "  'issue': '3',\n",
      "  'publication venue': {'id': ['1367-5931'],\n",
      "                        'name': 'Current Opinion in Chemical Biology',\n",
      "                        'type': 'journal'},\n",
      "  'publication year': 2002,\n",
      "  'title': 'In vitro selection as a powerful tool for the applied evolution of '\n",
      "           'proteins and peptides',\n",
      "  'type': 'journal article',\n",
      "  'volume': '6'},\n",
      " {'doi': '10.1002/9780470291092.ch20',\n",
      "  'publication venue': {'id': ['9780470291092'],\n",
      "                        'name': 'Proceedings of the 5th Annual Conference on '\n",
      "                                'Composites and Advanced Ceramic Materials: '\n",
      "                                'Ceramic Engineering and Science Proceedings',\n",
      "                        'type': 'book'},\n",
      "  'publication year': 1981,\n",
      "  'title': 'Mechanisms of Toughening in Ceramic Matrix Composites',\n",
      "  'type': 'book chapter'},\n",
      " {'doi': '10.1080/10273660412331292260',\n",
      "  'issue': '3-4',\n",
      "  'publication venue': {'id': ['1027-3662'],\n",
      "                        'name': 'Journal of Theoretical Medicine',\n",
      "                        'type': 'journal'},\n",
      "  'publication year': 2003,\n",
      "  'title': 'Amplified Molecular Binding of Prion Protein Homologues in '\n",
      "           'Self-Progressive Injury of Neuronal Membranes and Trafficking '\n",
      "           'Systems',\n",
      "  'type': 'journal article',\n",
      "  'volume': '5'}]\n"
     ]
    }
   ],
   "source": [
    "# retrieving the second item in the JSON array\n",
    "second_item = json_doc[1]  # remember that item indexes starts from 0\n",
    "print(\"-- Second item\")\n",
    "pprint(second_item)\n",
    "\n",
    "# retrieving the value associated with the key 'title' in the second item\n",
    "title_value_second_item = second_item[\"title\"]\n",
    "print(\"\\n-- Value assigned to 'title' in second item\")\n",
    "print(title_value_second_item)\n",
    "\n",
    "# appending a new JSON object at the end of the list\n",
    "json_doc.append({\n",
    "    \"doi\": \"10.1080/10273660412331292260\", \n",
    "    \"title\": \"Amplified Molecular Binding of Prion Protein Homologues in Self-Progressive Injury of Neuronal Membranes and Trafficking Systems\",\n",
    "    \"publication year\": 2003,\n",
    "    \"publication venue\": {\n",
    "        \"id\": [ \"1027-3662\" ],\n",
    "        \"name\": \"Journal of Theoretical Medicine\",\n",
    "        \"type\": \"journal\"\n",
    "    },\n",
    "    \"type\": \"journal article\",\n",
    "    \"issue\": \"3-4\",\n",
    "    \"volume\": \"5\"\n",
    "})\n",
    "print(\"\\n-- Updated JSON array (a.k.a. list of dictionaries)\")\n",
    "pprint(json_doc)"
   ]
  },
  {
   "cell_type": "markdown",
   "id": "ceramic-attention",
   "metadata": {},
   "source": [
    "### Storing a JSON document into a file\n",
    "\n",
    "We use the [function `dump`](https://docs.python.org/3/library/json.html#json.dump) of the `json` package (to import as usual) to store a dictionary or an array of values into a JSON file, as shown in the following excerpt: "
   ]
  },
  {
   "cell_type": "code",
   "execution_count": 19,
   "id": "fatal-carpet",
   "metadata": {},
   "outputs": [],
   "source": [
    "from json import dump\n",
    "\n",
    "with open(\"01-publications-venues-modified.json\", \"w\", encoding=\"utf-8\") as f:\n",
    "    dump(json_doc, f, ensure_ascii=False, indent=4)"
   ]
  },
  {
   "cell_type": "markdown",
   "id": "rising-witch",
   "metadata": {},
   "source": [
    "The `dump` function takes in input two mandatory positional parameters - i.e. the Python representation of a JSON document as the first parameter and the file object referring to the file where to store the JSON document. In addition, it can takes several other optional named parameters, two of which are strongly suggested and have been used in the code above. \n",
    "\n",
    "The parameter `ensure_ascii` (assigned to `True` by defalut) is responsible to keep every string value compliant with the [ASCII character encoding](https://en.wikipedia.org/wiki/ASCII), which will result in escaping all non-ASCII characters (that are only 128 characters). This is very undesirable when we have natural language text in the JSON object we want to store since, for instance, all the characters with accents (e.g. `\"è\"`) will be encoded in a different way (in the example, `\"\\u00e8\"`, that is the UTF-8 code of the character `\"è\"`). That is why the code above sets the `ensure_ascii` input parameter to `False`: to avoid such an escaping, preserving the original characters as they are (i.e. encoded in UTF-8).\n",
    "\n",
    "Instead, the parameter `indent` is used to specify how many white spaces to add for indenting the various key-value pairs in the JSON document. The choice to specify the indent is only for human consumption, since a machine does not care about how these pairs are visually organised in the document. Indeed, the JSON document\n",
    "\n",
    "```\n",
    "{ \"given name\": \"Silvio\", \"family name\": \"Peroni }\n",
    "```\n",
    "\n",
    "and the JSON document\n",
    "\n",
    "```\n",
    "{ \n",
    "    \"given name\": \"Silvio\", \n",
    "    \"family name\": \"Peroni\" \n",
    "}\n",
    "```\n",
    "\n",
    "are actually storing the same data, but the second is usually easier to read for humans. That is why the code above sets the input parameter `indent` to `4`, meaning that four spaces must be used to indent the various JSON pairs."
   ]
  },
  {
   "cell_type": "code",
   "execution_count": null,
   "id": "a4bfcb6e-fe22-4458-8fd8-d6a3dc51a28e",
   "metadata": {},
   "outputs": [],
   "source": []
  },
  {
   "cell_type": "code",
   "execution_count": null,
   "id": "1ebd9e3d-df91-475e-a301-011281807ef9",
   "metadata": {},
   "outputs": [],
   "source": []
  }
 ],
 "metadata": {
  "kernelspec": {
   "display_name": "Python 3",
   "language": "python",
   "name": "python3"
  },
  "language_info": {
   "codemirror_mode": {
    "name": "ipython",
    "version": 3
   },
   "file_extension": ".py",
   "mimetype": "text/x-python",
   "name": "python",
   "nbconvert_exporter": "python",
   "pygments_lexer": "ipython3",
   "version": "3.9.0"
  }
 },
 "nbformat": 4,
 "nbformat_minor": 5
}
